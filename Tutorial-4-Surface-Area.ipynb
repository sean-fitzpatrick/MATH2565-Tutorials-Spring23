{
 "cells": [
  {
   "cell_type": "markdown",
   "id": "9ed91050",
   "metadata": {},
   "source": [
    "# Tutorial 4: Arc length and surface area\n",
    "\n",
    "\n",
    "For this tutorial, you will do some of your work on paper, and some using the computer.\n",
    "\n",
    "(You can do it entirely on the computer if you are comfortable with typing up your work using Markdown and LaTeX.)\n",
    "\n",
    "## Arc length (again)\n",
    "\n",
    "Recall that the length of a curve $y=f(x)$, $a\\leq x\\leq b$, is given by\n",
    "$$L = \\int_a^b \\sqrt{1+f'(x)^2}\\,dx.$$\n",
    "\n",
    "Suppose $f$ is a one-to-one function, and that our curve can also be given by $x=g(y)$, where $g=f^{-1}$ is the inverse of $f$.\n",
    "\n",
    "In the derivation of the arc length formula, instead of writing $\\Delta x^2+\\Delta y^2 = \\left(1+\\left(\\frac{\\Delta y}{\\Delta x}\\right)^2\\right)\\Delta x^2$, we could have equally well written $\\Delta x^2+\\Delta y^2 = \\left(\\left(\\frac{\\Delta x}{\\Delta y}\\right)^2+1\\right)\\Delta y^2$.\n",
    "\n",
    "This leads to an alternate formula for arc length: if $x=g(y)$, for $c\\leq y\\leq d$, then\n",
    "$$L=\\int_c^d\\sqrt{1+g'(y)^2}\\,dy.$$\n",
    "\n",
    "Before proceeding, make sure to execute the next cell:"
   ]
  },
  {
   "cell_type": "code",
   "execution_count": null,
   "id": "118f8a2a",
   "metadata": {},
   "outputs": [],
   "source": [
    "import sympy as sy\n",
    "import numpy as np\n",
    "sy.init_printing()"
   ]
  },
  {
   "cell_type": "markdown",
   "id": "e6d0d0b8",
   "metadata": {},
   "source": [
    "### Problem 1\n",
    "\n",
    "Consider the curve $y=\\sqrt{x}$, for $0\\leq x\\leq 4$.\n",
    "\n",
    "(a) Set up the integral to compute the length of this curve, and explain why it's improper."
   ]
  },
  {
   "cell_type": "markdown",
   "id": "8fba0f37",
   "metadata": {},
   "source": [
    "(b) Set up another integral to compute the length of the curve, by first writing $x$ as a function of $y$."
   ]
  },
  {
   "cell_type": "markdown",
   "id": "f0dd3481",
   "metadata": {},
   "source": [
    "(c) Compute the arc length exactly, using SymPy. Then use the `evalf()` function to get a decimal value for the length."
   ]
  },
  {
   "cell_type": "code",
   "execution_count": null,
   "id": "ed94b9f2",
   "metadata": {},
   "outputs": [],
   "source": []
  },
  {
   "cell_type": "markdown",
   "id": "c7106a64",
   "metadata": {},
   "source": [
    "(d) Using the midpoint rule program from Tutorial 3, evaluate the integral from part (a) numerically, using 100 subintervals."
   ]
  },
  {
   "cell_type": "code",
   "execution_count": null,
   "id": "237b55b8",
   "metadata": {},
   "outputs": [],
   "source": []
  },
  {
   "cell_type": "markdown",
   "id": "92517603",
   "metadata": {},
   "source": [
    "(e) Using the midpoint rule program from Tutorial 3, evaluate the integral from part (b) numerically, using 100 subintervals."
   ]
  },
  {
   "cell_type": "code",
   "execution_count": null,
   "id": "e5d5aca7",
   "metadata": {},
   "outputs": [],
   "source": []
  },
  {
   "cell_type": "markdown",
   "id": "9b660efb",
   "metadata": {},
   "source": [
    "(f) Using the Simpson's rule program from Tutorial 3, evaluate the integral from part (b) numerically, using 100 subintervals."
   ]
  },
  {
   "cell_type": "code",
   "execution_count": null,
   "id": "1a9c85bf",
   "metadata": {},
   "outputs": [],
   "source": []
  },
  {
   "cell_type": "markdown",
   "id": "ec10c8d7",
   "metadata": {},
   "source": [
    "(g) Compare your answers from parts (d), (e), and (f) to the value from part (c). Which one is most accurate?\n",
    "\n",
    "*Note:* the easiest way to compare is to subtract each estimate from the value found in part (c). For example, you might enter something like `sy.integrate(s,(y,0,2)).evalf()-midpoint(f,0,4,100)`."
   ]
  },
  {
   "cell_type": "markdown",
   "id": "ecaafa02",
   "metadata": {},
   "source": [
    "(h) Why can't we use Simpson's rule for the integral from part (a)?\n",
    "\n"
   ]
  },
  {
   "cell_type": "markdown",
   "id": "5e234f5c",
   "metadata": {},
   "source": [
    "\n",
    "### Some reminders:\n",
    "\n",
    "- the syntax for integration in SymPy is `sy.integrate(f,(x,a,b))`\n",
    "- you can define a SymPy function by simply writing `f = `, followed by an expression in terms of x\n",
    "- don't forget that for SymPy you'll need to include `x = sy.symbols('x')` to define x as a symbol!\n",
    "- for a Numpy function, you need to use the syntax `def f(x):`. (The second line is indented, begins with `return`, and then gives an expression in x.) There is also the \"lambda\" method if you want a shortcut.\n",
    "- click the \"+\" button in the toolbar to get more code cells!\n"
   ]
  },
  {
   "cell_type": "code",
   "execution_count": null,
   "id": "b403fafe",
   "metadata": {},
   "outputs": [],
   "source": []
  },
  {
   "cell_type": "markdown",
   "id": "6f0003e2",
   "metadata": {},
   "source": [
    "## Surface area\n",
    "\n",
    "Suppose that a curve of the form $y=f(x), a\\leq x\\leq b$ (or $x=g(y), c\\leq x\\leq d$) is revolved about an axis.\n",
    "\n",
    "To keep things reasonable, the axis should be either horizontal or vertical.\n",
    "\n",
    "The **surface area** of the surface generated in this way is given by an integral of the form\n",
    "$$S = \\int_a^b 2\\pi R\\,ds$$\n",
    "\n",
    "where $ds$ is the arc length element (either $\\sqrt{1+f'(x)^2}\\,dx$ or $\\sqrt{1+g'(y)^2}\\,dy$, depending on setup), and $R$ is the \"radius\" of the circle travelled by a point on the curve: the distance from the curve to the axis of rotation.\n",
    "\n",
    "<img alt=\"Sketch of a surface generated by revolving a curve about a horizontal axis\" width=\"40%\" src=\"surface.svg\"/>\n",
    "\n",
    "In this sketch, we have a horizontal axis $y=h$, and $y=f(x)$, so $R(x)=f(x)-h$ is the distance from the curve to the axis. You will find that in most examples, we use the $x$ axis (so $h=0$), because for integrals done by hand, there is often a significant difference in difficulty between the integral of $f(x)\\sqrt{1+f'(x)^2}$ and $\\sqrt{1+f'(x)^2}$.\n",
    "\n",
    "If we were to write $x=g(y)$ for this curve (we wouldn't, for this particular curve, because the function is not one-to-one, but hypothetically...), then $R(y)=y-h$ and $ds=\\sqrt{1+g'(y)^2}\\,dy$.\n",
    "\n",
    "For a vertical axis $x=k$, we would have either $R(x)=x-k$ or $R(y)=g(y)-k$, depending on the variable of integration."
   ]
  },
  {
   "cell_type": "markdown",
   "id": "a04f6a57",
   "metadata": {},
   "source": [
    "\n",
    "\n",
    "### Problem 2\n",
    "\n",
    "Consider again the curve $y=\\sqrt{x}$, $0\\leq x\\leq 4$. Set up the following integrals to compute surface area:<br><br>\n",
    "\n",
    "(a) When revolved about the $x$ axis, using $x$ as the integration variable."
   ]
  },
  {
   "cell_type": "markdown",
   "id": "14344121",
   "metadata": {},
   "source": [
    "(b) When revolved about the $x$ axis, using $y$ as the integration variable.\n"
   ]
  },
  {
   "cell_type": "markdown",
   "id": "22db41de",
   "metadata": {},
   "source": [
    "\n",
    "(c) When revolved about the $y$ axis, using $x$ as the integration variable.\n",
    "\n"
   ]
  },
  {
   "cell_type": "markdown",
   "id": "8153a139",
   "metadata": {},
   "source": [
    "\n",
    "(d) When revolved about the $y$ axis, using $y$ as the integration variable.<br><br>\n",
    "\n"
   ]
  },
  {
   "cell_type": "markdown",
   "id": "e453aa4d",
   "metadata": {},
   "source": [
    "Then, use the computer to evaluate each integral (or compute the integrals by hand), and confirm that your answers for (a) and (b) are the same, and that your answers for (c) and (d) are the same."
   ]
  },
  {
   "cell_type": "code",
   "execution_count": null,
   "id": "2c6b74e5",
   "metadata": {},
   "outputs": [],
   "source": []
  }
 ],
 "metadata": {
  "kernelspec": {
   "display_name": "Python 3 (ipykernel)",
   "language": "python",
   "name": "python3"
  },
  "language_info": {
   "codemirror_mode": {
    "name": "ipython",
    "version": 3
   },
   "file_extension": ".py",
   "mimetype": "text/x-python",
   "name": "python",
   "nbconvert_exporter": "python",
   "pygments_lexer": "ipython3",
   "version": "3.10.7"
  }
 },
 "nbformat": 4,
 "nbformat_minor": 5
}
