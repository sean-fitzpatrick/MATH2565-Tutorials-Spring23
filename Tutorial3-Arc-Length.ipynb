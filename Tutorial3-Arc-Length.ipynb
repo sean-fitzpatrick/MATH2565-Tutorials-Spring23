{
 "cells": [
  {
   "cell_type": "markdown",
   "id": "relevant-number",
   "metadata": {},
   "source": [
    "# Math 2565 Tutorial 3\n",
    "\n",
    "## Arc length and numerical integration\n",
    "\n",
    "We have two goals for this tutorial assignment:\n",
    "1. Understand how to use the arc length formula\n",
    "2. Learn how to manipulate arrays and set up numerical integration\n",
    "\n",
    "The second goal is closely tied to the first: most of the integrals that result when the arc length formula is applied cannot be evaluated by hand. We will begin by introducing arc length.\n",
    "\n",
    "Let $f(x)$ be a function that is differentiable on a closed interval $[a, b]$. (For the meaning of differentiability on a closed interval, see [Section 2.1 in the textbook](https://opentext.uleth.ca/apex-accelerated/sec_derivative.html#subsection-7).)\n",
    "\n",
    "The **arc length** of the curve $y=f(x)$, for $a\\leq x\\leq b$, is given by\n",
    "\n",
    "$$L = \\int_a^b \\sqrt{1+(f'(x))^2}\\,dx.$$\n",
    "\n",
    "The argument for this formula is quite clever: we partition the interval $[a, b]$ using points\n",
    "$$x_0=a\\lt x_1 \\lt \\cdots \\lt x_n=b,$$\n",
    "and approximate the curve by the *polygonal path* passing through the points $(x_i, f(x_i))$, for $i=0,\\ldots, n$.\n",
    "\n",
    "The length of each segment is given by the distance formula:\n",
    "\n",
    "$$\\Delta L_i = \\sqrt{(x_{i+1}-x_i)^2+(f(x_{i+1})-f(x_i))^2} = \\sqrt{(\\Delta x_i)^2 + (f(x_{i+1})-f(x_i))^2} = \\Delta x_i\\sqrt{1+\\left(\\frac{f(x_{i+1}-f(x_i)}{x_{i+1}-x_i}\\right)^2}.$$\n",
    "\n",
    "Now, by the Mean Value Theorem, on each interval $[x_i,x_{i+1}]$, there exists some $c_i$ such that\n",
    "\n",
    "$$f'(c_i) = \\frac{f(x_{i+1})-f(x_i)}{x_{i+1}-x_i},$$\n",
    "\n",
    "giving us $\\Delta L_i = \\Delta x_i \\sqrt{1+(f'(c_i))^2}$. Putting this into a Riemann sum, we get our formula.\n",
    "\n",
    "The trouble is that for all but the most carefully chosen curves, the arc length formula results in an integral that is impossible to evaluate symbolically. (Have a look at the functions that appear [in the exercises for Section 7.4](https://opentext.uleth.ca/apex-accelerated/sec_arc_length.html#exercisegroup-146)!)"
   ]
  },
  {
   "cell_type": "code",
   "execution_count": null,
   "id": "f262e991",
   "metadata": {},
   "outputs": [],
   "source": [
    "import sympy as sy\n",
    "sy.init_printing()\n",
    "x=sy.symbols('x')"
   ]
  },
  {
   "cell_type": "markdown",
   "id": "8ed237c6",
   "metadata": {},
   "source": [
    "### Problem 1\n",
    "\n",
    "The curve $y=x^2$ is usually considered to be one of the simplest examples in calculus. \n",
    "\n",
    "(a) Use SymPy to define the function you need to integrate in order to compute the arc length. That is, first define the function $f(x)=x^2$, and then define $s(x) = \\sqrt{1+f'(x)^2}$. Display the result to confirm it worked."
   ]
  },
  {
   "cell_type": "code",
   "execution_count": null,
   "id": "7752a932",
   "metadata": {},
   "outputs": [],
   "source": []
  },
  {
   "cell_type": "markdown",
   "id": "scientific-masters",
   "metadata": {},
   "source": [
    "(b) What trig substitution could you use to evaluate the integral of this function? You don't have to do the substitution; just indicate what you would use. Trig functions can be typed as `\\sin(x)`, `\\cos(x)`, etc. Run the cell when you're done to format the text."
   ]
  },
  {
   "cell_type": "markdown",
   "id": "serious-windows",
   "metadata": {},
   "source": [
    "$$\\text{double-click to edit. delete this text and enter your equation here. keep the dollar signs}$$"
   ]
  },
  {
   "cell_type": "markdown",
   "id": "viral-breach",
   "metadata": {},
   "source": [
    "(c) Use SymPy to calculate the length of the curve $y=x^2$ from $x=0$ to $x=2$."
   ]
  },
  {
   "cell_type": "code",
   "execution_count": null,
   "id": "exclusive-spectrum",
   "metadata": {},
   "outputs": [],
   "source": []
  },
  {
   "cell_type": "markdown",
   "id": "related-flexibility",
   "metadata": {},
   "source": [
    "### Problem 2 \n",
    "\n",
    "Consider [problem 7.4.19 in the textbook](https://opentext.uleth.ca/apex-accelerated/sec_arc_length.html#exercise-1419), which advises you to set up, but not evaluate, the integral to compute the length of the curve $y=1/x$, from $x=1$ to $x=2$.\n",
    "\n",
    "(a) Use SymPy to define the function you will need to integrate, according to the arc length formula."
   ]
  },
  {
   "cell_type": "code",
   "execution_count": null,
   "id": "a6832360",
   "metadata": {},
   "outputs": [],
   "source": []
  },
  {
   "cell_type": "markdown",
   "id": "processed-payday",
   "metadata": {},
   "source": [
    "(b) Try to evaluate the integral as you did in Problem 1. Attempt to compute both the definite and indefinite integrals."
   ]
  },
  {
   "cell_type": "code",
   "execution_count": null,
   "id": "optional-relaxation",
   "metadata": {},
   "outputs": [],
   "source": []
  },
  {
   "cell_type": "code",
   "execution_count": null,
   "id": "58a6d073",
   "metadata": {},
   "outputs": [],
   "source": []
  },
  {
   "cell_type": "markdown",
   "id": "1e7db94f",
   "metadata": {},
   "source": [
    "Does your answer not look particularly familiar? You can get a decimal approximation by adding `.evalf()` to the end of your definite integral:"
   ]
  },
  {
   "cell_type": "code",
   "execution_count": null,
   "id": "80f8e094",
   "metadata": {},
   "outputs": [],
   "source": []
  },
  {
   "cell_type": "markdown",
   "id": "royal-identity",
   "metadata": {},
   "source": [
    "### Problem 3\n",
    "\n",
    "For this problem we will use the [implementation of Simpson's Rule](https://patrickwalls.github.io/mathematicalpython/integration/simpsons-rule/) given by Patrick Walls of UBC. Set things up as indicated, and then (approximately) evaluate the integral from Problem 2 using Simpson's Rule."
   ]
  },
  {
   "cell_type": "code",
   "execution_count": null,
   "id": "71a70a5c",
   "metadata": {},
   "outputs": [],
   "source": [
    "import numpy as np"
   ]
  },
  {
   "cell_type": "markdown",
   "id": "15ff7962",
   "metadata": {},
   "source": [
    "Here is Patrick's code for a Simpson's Rule function:"
   ]
  },
  {
   "cell_type": "code",
   "execution_count": null,
   "id": "b74b7266",
   "metadata": {},
   "outputs": [],
   "source": [
    "def simps(f,a,b,N=50):\n",
    "    '''Approximate the integral of f(x) from a to b by Simpson's rule.\n",
    "\n",
    "    Simpson's rule approximates the integral \\int_a^b f(x) dx by the sum:\n",
    "    (dx/3) \\sum_{k=1}^{N/2} (f(x_{2i-2} + 4f(x_{2i-1}) + f(x_{2i}))\n",
    "    where x_i = a + i*dx and dx = (b - a)/N.\n",
    "\n",
    "    Parameters\n",
    "    ----------\n",
    "    f : function\n",
    "        Vectorized function of a single variable\n",
    "    a , b : numbers\n",
    "        Interval of integration [a,b]\n",
    "    N : (even) integer\n",
    "        Number of subintervals of [a,b]\n",
    "\n",
    "    Returns\n",
    "    -------\n",
    "    float\n",
    "        Approximation of the integral of f(x) from a to b using\n",
    "        Simpson's rule with N subintervals of equal length.\n",
    "\n",
    "    Examples\n",
    "    --------\n",
    "    >>> simps(lambda x : 3*x**2,0,1,10)\n",
    "    1.0\n",
    "    '''\n",
    "    if N % 2 == 1:\n",
    "        raise ValueError(\"N must be an even integer.\")\n",
    "    dx = (b-a)/N\n",
    "    x = np.linspace(a,b,N+1)\n",
    "    y = f(x)\n",
    "    S = dx/3 * np.sum(y[0:-1:2] + 4*y[1::2] + y[2::2])\n",
    "    return S"
   ]
  },
  {
   "cell_type": "markdown",
   "id": "4671089e",
   "metadata": {},
   "source": [
    "Note that most of the above consists of comments: the actual code is only a few lines long!\n",
    "\n",
    "You can run this by simply entering `simps(f,a,b,N)`, where `a,b,N` are values you choose, and `f` is the function you want to integrate. For example, you might run `simps(f,0,2,50)` to integrate a function `f` from 0 to 2 using 50 subintervals.\n",
    "\n",
    "**Caution**: this will not work if `f` is a SymPy function! You can either redefine the function `f` you want to integrate (and this needs to be the arc length expression, not the function whose length you're computing), or convert the function from Problem 2 into a NumPy function. If you want to know how to do this, see the [numerical integration example](./numerical-integration-example.ipynb) I prepared.\n",
    "\n",
    "Compute the integral for the arc length of $y=1/x$ from 1 to 2 using Simpson's rule, with 10, 50, and 100 subintervals."
   ]
  },
  {
   "cell_type": "code",
   "execution_count": null,
   "id": "corporate-dryer",
   "metadata": {},
   "outputs": [],
   "source": []
  },
  {
   "cell_type": "code",
   "execution_count": null,
   "id": "bd1c87be",
   "metadata": {},
   "outputs": [],
   "source": []
  },
  {
   "cell_type": "code",
   "execution_count": null,
   "id": "226f0709",
   "metadata": {},
   "outputs": [],
   "source": []
  },
  {
   "cell_type": "markdown",
   "id": "7111f3cf",
   "metadata": {},
   "source": [
    "How well do your results compare to what you found in Problem 2? (You don't have to answer.)"
   ]
  },
  {
   "cell_type": "markdown",
   "id": "narrow-optimum",
   "metadata": {},
   "source": [
    "### Problem 4\n",
    "\n",
    "Finally, let's compute the length of a half circle. Consider the function $f(x) = \\sqrt{4-x^2}$ on the interval $[-2,2]$. We know that the circumference of a semi-circle of radius $R$ is $\\pi R$, so without any calculus, the answer to the problem should be $2\\pi$.\n",
    "\n",
    "We could try to compute this using Simpson's rule, but there's a problem: $f'(x)$ is undefined at the endpoints, and Simpson's rule uses the endpoints!\n",
    "\n",
    "(Feel free to try it.)\n",
    "\n",
    "Instead, we could try a Riemann sum using midpoints, to stay away from the endpoints. How do we set up a Riemann sum? First, we need to understand how to work with arrays in Numpy. Let's start by defining an array, and since we'll be needing it anyway, let's make it a uniform partition."
   ]
  },
  {
   "cell_type": "code",
   "execution_count": null,
   "id": "binding-medicine",
   "metadata": {},
   "outputs": [],
   "source": [
    "P = np.linspace(0,10,11)\n",
    "P"
   ]
  },
  {
   "cell_type": "markdown",
   "id": "b7553cc0",
   "metadata": {},
   "source": [
    "You should see an array consisting of the numbers from 0 to 10. Numpy has a \"colon syntax\" for accessing parts of an array. To see the full array `P`, you can enter `P[:]`. Try it:"
   ]
  },
  {
   "cell_type": "code",
   "execution_count": null,
   "id": "breeding-married",
   "metadata": {},
   "outputs": [],
   "source": []
  },
  {
   "cell_type": "markdown",
   "id": "a74e8c4f",
   "metadata": {},
   "source": [
    "If you want all the entries after a certain point in the index, you can place a colon to the right of the index value. For example, `P[3:]` will give everything after (and including) the third index position. Try it:"
   ]
  },
  {
   "cell_type": "code",
   "execution_count": null,
   "id": "7c1482cb",
   "metadata": {},
   "outputs": [],
   "source": []
  },
  {
   "cell_type": "markdown",
   "id": "5d4af888",
   "metadata": {},
   "source": [
    "Remember that a Python index starts at 0, so position 3 is actually the 4th entry!\n",
    "\n",
    "To get everything before a certain position, put the colon on the left. See what happens if you enter `P[:4]`:"
   ]
  },
  {
   "cell_type": "code",
   "execution_count": null,
   "id": "81536e5b",
   "metadata": {},
   "outputs": [],
   "source": []
  },
  {
   "cell_type": "markdown",
   "id": "b4aa8251",
   "metadata": {},
   "source": [
    "Finally, you can also start from the end instead of the beginning, using negative index values. See what happens if you input `P[:-3]` and `P[-4:]`:"
   ]
  },
  {
   "cell_type": "code",
   "execution_count": null,
   "id": "32456a52",
   "metadata": {},
   "outputs": [],
   "source": []
  },
  {
   "cell_type": "code",
   "execution_count": null,
   "id": "fc3f6004",
   "metadata": {},
   "outputs": [],
   "source": []
  },
  {
   "cell_type": "markdown",
   "id": "d6c25fe4",
   "metadata": {},
   "source": [
    "Why do we need this? Remember that to do a Riemann sum with left endpoints, we need all points in our partition except the last one. The set of left endpoints is given by:"
   ]
  },
  {
   "cell_type": "code",
   "execution_count": null,
   "id": "4723e650",
   "metadata": {},
   "outputs": [],
   "source": [
    "L=P[:-1]\n",
    "L"
   ]
  },
  {
   "cell_type": "raw",
   "id": "1a4b3708",
   "metadata": {},
   "source": [
    "Similarly, we can get right endpoints as follows:"
   ]
  },
  {
   "cell_type": "code",
   "execution_count": null,
   "id": "e1400225",
   "metadata": {},
   "outputs": [],
   "source": [
    "R=P[1:]\n",
    "R"
   ]
  },
  {
   "cell_type": "markdown",
   "id": "146b910e",
   "metadata": {},
   "source": [
    "To get midpoints, we need to average the left and right endpoints. See what happens when you run the next cell:"
   ]
  },
  {
   "cell_type": "code",
   "execution_count": null,
   "id": "f93c6da1",
   "metadata": {},
   "outputs": [],
   "source": [
    "M = (L+R)/2\n",
    "M"
   ]
  },
  {
   "cell_type": "markdown",
   "id": "28deb9a4",
   "metadata": {},
   "source": [
    "Now we can set up a midpoint Riemann sum. We will try to imitate Patrick's code for Simpsons rule."
   ]
  },
  {
   "cell_type": "code",
   "execution_count": null,
   "id": "2a59e2b3",
   "metadata": {},
   "outputs": [],
   "source": [
    "def midpoint(f,a,b,N=50):\n",
    "    '''Approximate the integral of f(x) from a to b using the midpoint rule.\n",
    "\n",
    "    Parameters\n",
    "    ----------\n",
    "    f : function\n",
    "        Vectorized function of a single variable\n",
    "    a , b : numbers\n",
    "        Interval of integration [a,b]\n",
    "    N : (even) integer\n",
    "        Number of subintervals of [a,b]\n",
    "\n",
    "    Returns\n",
    "    -------\n",
    "    float\n",
    "        Approximation of the integral of f(x) from a to b using\n",
    "        midpoint rule with N subintervals of equal length.\n",
    "\n",
    "    Examples\n",
    "    --------\n",
    "    >>> midpoint(lambda x : 3*x**2,0,1,10)\n",
    "    1.0\n",
    "    '''\n",
    "    dx = (b-a)/N\n",
    "    x = np.linspace(a,b,N+1)\n",
    "    mid = (x[:-1]+x[1:])/2\n",
    "    y = f(mid)\n",
    "    S = np.sum(y) * dx\n",
    "    return S"
   ]
  },
  {
   "cell_type": "markdown",
   "id": "33475990",
   "metadata": {},
   "source": [
    "Now we can finally return to the problem we needed to solve. First, use SymPy to calculate $\\sqrt{1+f'(x)^2}$ for $f(x)=\\sqrt{4-x^2}$."
   ]
  },
  {
   "cell_type": "code",
   "execution_count": null,
   "id": "555d1f4b",
   "metadata": {},
   "outputs": [],
   "source": []
  },
  {
   "cell_type": "markdown",
   "id": "04eeb58f",
   "metadata": {},
   "source": [
    "Next, either use the \"lambdify\" process to turn this into a NumPy function, or simply define the result as a NumPy function by hand."
   ]
  },
  {
   "cell_type": "code",
   "execution_count": null,
   "id": "4317f546",
   "metadata": {},
   "outputs": [],
   "source": []
  },
  {
   "cell_type": "markdown",
   "id": "ddad6b2d",
   "metadata": {},
   "source": [
    "Finally, use the midpoint sum function above to approximate the integral from $-2$ to $2$ using 10, 100, and 1000 rectangles. How well do your answers compare to the expected result of $2\\pi$?"
   ]
  },
  {
   "cell_type": "code",
   "execution_count": null,
   "id": "0478a5ac",
   "metadata": {},
   "outputs": [],
   "source": []
  },
  {
   "cell_type": "code",
   "execution_count": null,
   "id": "421e21f7",
   "metadata": {},
   "outputs": [],
   "source": []
  },
  {
   "cell_type": "code",
   "execution_count": null,
   "id": "3bccc3a7",
   "metadata": {},
   "outputs": [],
   "source": []
  }
 ],
 "metadata": {
  "kernelspec": {
   "display_name": "Python 3 (ipykernel)",
   "language": "python",
   "name": "python3"
  },
  "language_info": {
   "codemirror_mode": {
    "name": "ipython",
    "version": 3
   },
   "file_extension": ".py",
   "mimetype": "text/x-python",
   "name": "python",
   "nbconvert_exporter": "python",
   "pygments_lexer": "ipython3",
   "version": "3.10.7"
  }
 },
 "nbformat": 4,
 "nbformat_minor": 5
}
