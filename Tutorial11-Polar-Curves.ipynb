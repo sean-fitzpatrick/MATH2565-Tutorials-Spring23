{
 "cells": [
  {
   "cell_type": "markdown",
   "id": "7dbd7b72",
   "metadata": {},
   "source": [
    "# Math 2565 Tutorial 11: Polar curves\n",
    "\n",
    "**Polar coordinates** provide us with an alternative coordinate system for the plane. Instead of a rectangular grid system, we fill the plane with circles centred at the origin. We can locate any point on the plane by first specifying a circle (given by its **radius** $r$), and then saying where on that circle we are, using an angle $\\theta$.\n",
    "\n",
    "![diagram of the polar coordinate system](polar.png)\n",
    "\n",
    "Trigonometry gives us the relationships:\n",
    "\n",
    "$$\\begin{aligned}x&=r\\cos(\\theta) & r^2&=x^2+y^2\\\\ y&=r\\sin(\\theta) & \\tan(\\theta)&=\\frac{y}{x}\\end{aligned}$$\n",
    "\n",
    "Unlike rectangular coordinates, polar coordinates are not uniquely defined, due to the periodic nature of the sine and cosine functions. For example, the polar coordinates $(4,\\pi/3)$, $(4,-5\\pi/3)$ and $(4, 7\\pi/3)$ all decribe the same point, with rectangular coordinates $(2,2\\sqrt{3})$. By convention, we allow $r$ to be negative, and interpret this as moving *backwards* along the line through the origin corresponding to the angle $\\theta$. This is the same as rotating by an angle of $\\pi$ and moving forwards, so, for example, the coordinates $(-4,4\\pi/3)$ also describe the same point as the rectangular coordinates $(2,2\\sqrt{3})$.\n",
    "\n",
    "Most curves are defined in polar coordinates by giving $r$ as a function of $\\theta$ ($r=f(\\theta)$).\n",
    "\n",
    "Some examples:\n",
    "\n",
    "- if $c>0$ is a constant, $r=c$ is a circle of radius $c$. $r=0$ is the origin $(0,0)$, which is the only point where no angle $\\theta$ can be defined\n",
    "- if $r=\\theta$, we get further and further from the origin as $\\theta$ increases, and the result is a spiral\n",
    "- the equation $r=\\sin(\\theta)$ describes a circle! This might not be obvious at first, but if we multiply both sides of the equation by $r$, we get $r^2=r\\sin(\\theta)$. In rectangular coordinates, this is $x^2+y^2=y$, and by completing the square, we can write this as $x^2+\\left(y-\\frac12\\right)^2=\\frac14$\n",
    "\n",
    "Many other (really cool) curves can be created using different functions of $\\theta$, many of which would be difficult to describe in rectangular coordinates.\n",
    "\n",
    "## Plotting polar curves\n",
    "\n",
    "When plotting an equation $r=f(\\theta)$ by hand, we try to imagine moving our pen further from (or nearer to) the origin as we vary $\\theta$, depending on whether $f(\\theta)$ is increasing or decreasing. We can manage some limited success this way, but again it is easier to defer to the computer.\n",
    "\n",
    "Many programs (both GeoGebra and SymPy included) do not have a built in polar plotting utility. This is because any polar curve $r=f(\\theta)$ can be treated as a parametric curve:\n",
    "\n",
    "$$\\begin{aligned}x&=r\\cos(\\theta)=f(\\theta)\\cos(\\theta)\\\\ y&=r\\sin(\\theta)=f(\\theta)\\sin(\\theta)\\end{aligned}$$\n",
    "\n",
    "So to plot a polar curve, we first convert it to parametric, and then use the same `plot_parametric` function from SymPy as we used in the previous tutorial.\n",
    "\n",
    "For example, to plot the curve $r=\\sin(5\\theta)$, with $0\\leq \\theta\\leq \\pi$, we would do the following:"
   ]
  },
  {
   "cell_type": "code",
   "execution_count": null,
   "id": "d0ecc129",
   "metadata": {},
   "outputs": [],
   "source": [
    "import sympy as sy\n",
    "sy.init_printing()\n",
    "t = sy.symbols('t') #this will just be more convenient than typing \"theta\" all the time\n",
    "r = sy.sin(5*t)\n",
    "x = r*sy.cos(t)\n",
    "y = r*sy.sin(t)\n",
    "pi = sy.pi #for later convenience\n",
    "pp = sy.plot_parametric #also for later convenience\n",
    "pp((x,y),(t,0,pi))"
   ]
  },
  {
   "cell_type": "markdown",
   "id": "6b5bde69",
   "metadata": {},
   "source": [
    "### Problem 1\n",
    "\n",
    "Plot the following polar curves. In each case, you will need to decide on an appropriate interval of the form $[0,k\\pi]$, for some positive integer $k$, to ensure that you've produced the entire curve. (Note that your curve will have returned to where it started if $f(\\theta+k\\pi)=f(\\theta)$.)\n",
    "\n",
    "(a) $r = \\sin(\\theta)+\\sin^3(5\\theta/2)$\n",
    "\n",
    "\n",
    "(b) $r = \\sin(8\\theta/5)$\n",
    "\n",
    "(c) $r = \\sin^2(4\\theta)+\\cos(4\\theta)$"
   ]
  },
  {
   "cell_type": "code",
   "execution_count": null,
   "id": "6d3e1946",
   "metadata": {},
   "outputs": [],
   "source": []
  },
  {
   "cell_type": "code",
   "execution_count": null,
   "id": "36eeb6a5",
   "metadata": {},
   "outputs": [],
   "source": []
  },
  {
   "cell_type": "code",
   "execution_count": null,
   "id": "027efd71",
   "metadata": {},
   "outputs": [],
   "source": []
  },
  {
   "cell_type": "markdown",
   "id": "d78e4abd",
   "metadata": {},
   "source": [
    "## Families of polar curves\n",
    "\n",
    "In the textbook, you have seen that there are some common families of polar curves, with each member given by a different value for a parameter. For example, the equations $r=a\\pm b\\cos(\\theta)$ define a family of curves called **limaçons**.\n",
    "\n",
    "We can investigate how these curves change as we vary the parameter(s) by using some of the interactive features of a Jupyter notebook: the `ipywidgets` library contains an assortment of interactive \"widgets\" that you can use in your notebook. For example, here is a family of limaçons, with $b=2$.\n",
    "\n",
    "You can drag the slider with your mouse, or click on the slider and then use the arrow keys on your keyboard."
   ]
  },
  {
   "cell_type": "code",
   "execution_count": null,
   "id": "561cebfe",
   "metadata": {},
   "outputs": [],
   "source": [
    "%matplotlib inline\n",
    "import ipywidgets as ipw\n",
    "import numpy as np\n",
    "import matplotlib.pyplot as plt\n",
    "\n",
    "# Need to define a plotting function depending on a parameter\n",
    "\n",
    "def polar_plot(a):\n",
    "    t = np.linspace(0,2*np.pi,50)\n",
    "    r = a+2*np.cos(t) #define f(theta)\n",
    "    x = r*np.cos(t)\n",
    "    y = r*np.sin(t)\n",
    "\n",
    "    plt.plot(x,y)\n",
    "    plt.xlim(-3.5,7.5)\n",
    "    plt.ylim(-5.5,5.5)\n",
    "    \n",
    "ipw.interact(polar_plot,a = ipw.FloatSlider(value=3,min=0,max=5,step=0.2));"
   ]
  },
  {
   "cell_type": "markdown",
   "id": "e0002edf",
   "metadata": {},
   "source": [
    "### Problem 2\n",
    "\n",
    "Consider the family of polar curves given by the equation $r = \\dfrac{1-a\\cos(\\theta)}{1+a\\cos(\\theta)}$.\n",
    "\n",
    "- Construct an interactive applet to plot this family, for integer values of $a$ from $-5$ to $5$.\n",
    "\n",
    "- Investigate how the curve changes as $a$ varies. In particular, identify the values of $a$ for which the shape changes significantly. (You may be able to deduce what these values are from the polar equation, but you should investigate using an applet.)\n",
    "\n",
    "**Suggestion**: use code similar to the above, but replace `FloatSlider` with `IntSlider`. Use a starting value of 2, a minimum of $-5$, and a maximum of 5. (You can use the default step of 1. You could also stick with `FloatSlider` if you want to experiment with a smaller step size.) You will need to adjust the $x$ and $y$ ranges for the viewing window as well."
   ]
  },
  {
   "cell_type": "code",
   "execution_count": null,
   "id": "48a03525",
   "metadata": {},
   "outputs": [],
   "source": []
  },
  {
   "cell_type": "markdown",
   "id": "3ec57746",
   "metadata": {},
   "source": [
    "### Problem 3\n",
    "\n",
    "Consider the family of curves given by the polar equation $r=1+c\\sin(n\\theta)$, where $c$ is a real number, and $n$ is a positive integer.\n",
    "\n",
    "(Note that this is a **two** parameter family: we have a real number parameter $c$, and a natural number parameter $n$.)\n",
    "\n",
    "- Construct an applet to plot these curves using two sliders: a `FloatSlider` for $c$, with range $-3$ to $3$, and step $0.2$, and an `IntSlider` for $n$, with range $1$ to $12$.\n",
    "\n",
    "- How does the curve change as $n$ increases? How does it change as $c$ changes?"
   ]
  },
  {
   "cell_type": "code",
   "execution_count": null,
   "id": "39a3bdc2",
   "metadata": {},
   "outputs": [],
   "source": []
  }
 ],
 "metadata": {
  "kernelspec": {
   "display_name": "Python 3 (ipykernel)",
   "language": "python",
   "name": "python3"
  },
  "language_info": {
   "codemirror_mode": {
    "name": "ipython",
    "version": 3
   },
   "file_extension": ".py",
   "mimetype": "text/x-python",
   "name": "python",
   "nbconvert_exporter": "python",
   "pygments_lexer": "ipython3",
   "version": "3.10.7"
  }
 },
 "nbformat": 4,
 "nbformat_minor": 5
}
