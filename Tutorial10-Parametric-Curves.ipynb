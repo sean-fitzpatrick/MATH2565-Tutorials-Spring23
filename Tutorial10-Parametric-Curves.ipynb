{
 "cells": [
  {
   "cell_type": "markdown",
   "id": "a33db59f",
   "metadata": {},
   "source": [
    "# Math 2565 Tutorial 10: Parametric curves\n",
    "\n",
    "Recall that a **parametric curve** is given by equations $x=f(t), y=g(t)$, for $t$ in some domain (often a closed interval $[a,b]$).\n",
    "\n",
    "Using parametric equations allows us to define a wide variety of curves that would be impossible to define using the graph of a function, or an implicitly-defined function.\n",
    "\n",
    "The main things we are interested in with parametric curves are:\n",
    "\n",
    "1. How to plot them (this is mostly a job for the computer)\n",
    "2. How to convert (when possible) between \"rectangular\" curves like $y=x^2$ or $\\frac{x^2}{4}+\\frac{y^2}{9}=1$ and parametric curves. (Converting from rectangular to parametric is called \"parametrization\", and there is no unique answer for this. Converting from parametric to rectangular is called \"eliminating the parameter\".)\n",
    "3. Calculating tangent and normal lines to parametric curves, and determining if a curve is \"smooth\"\n",
    "4. Calculating arc length (this is mostly a job for the computer)\n",
    "5. Calculating area bounded by closed curves (this is the topic of Assignment 9)\n",
    "\n",
    "In this notebook you will learn how to plot parametric curves using SymPy and GeoGebra, and you will calculate arc length symbolically (using SymPy) and numerically (using NumPy).\n",
    "\n",
    "## Plotting Parametric curves with SymPy\n",
    "\n",
    "The basic syntax for plotting a parametric curve in SymPy is `plot_parametric((expr_x,expr_y),range)`, where `expr_x` is an expression that defines $x$ in terms of our parametric (most likely `t`), `expr_y` is an expression that defines $y$ in terms of the parameter, and `range` defines the domain for the parameter, using the same syntax as for integrals. For example, for $t\\in [1,3]$ we would use `(t,1,3)` for the range.\n",
    "\n",
    "You can plot more than one curve on the same set of axes by including an ordered list of curves: for two curves, you would have something like `plot_parametric((expr_x1,expr_y1),(expr_x2,expr_y2),range)` if the range is the same, or `plot_parametric((expr_x1,expr_y1,range1),(expr_x2,expr_y2,range2))` for different ranges.\n",
    "\n",
    "Optional arguments include `line_color` for the colour of the curve, `label`, `xlabel`, and `ylabel` to label the plot, $x$ axis, and $y$ axis, respectively, and `xlim`, `ylim` to set the bounds for the $x$ and $y$ axes (equal to an ordered pair).\n",
    "\n",
    "Here is an example, which plots the sine and cosine functions from $-2\\pi$ to $2\\pi$:"
   ]
  },
  {
   "cell_type": "code",
   "execution_count": null,
   "id": "95add614",
   "metadata": {},
   "outputs": [],
   "source": [
    "import sympy as sy\n",
    "sy.init_printing()\n",
    "t = sy.symbols('t')\n",
    "sy.plot_parametric((t,sy.cos(t)),(t,sy.sin(t)),(t,-2*sy.pi,2*sy.pi))"
   ]
  },
  {
   "cell_type": "markdown",
   "id": "66eb1f21",
   "metadata": {},
   "source": [
    "One catch: if you wanted to specify a different colour, you can't do this all in one go, because the colour gets applied to both curves."
   ]
  },
  {
   "cell_type": "code",
   "execution_count": null,
   "id": "65d24b5c",
   "metadata": {},
   "outputs": [],
   "source": [
    "sy.plot_parametric((t,sy.cos(t)),(t,sy.sin(t)),(t,-2*sy.pi,2*sy.pi),line_color='red')"
   ]
  },
  {
   "cell_type": "markdown",
   "id": "92aa5d0d",
   "metadata": {},
   "source": [
    "But we can use the following to override the colour for one of the curves:"
   ]
  },
  {
   "cell_type": "code",
   "execution_count": null,
   "id": "0f4d326e",
   "metadata": {},
   "outputs": [],
   "source": [
    "p=sy.plot_parametric((t,sy.cos(t)),(t,sy.sin(t)),(t,-2*sy.pi,2*sy.pi),line_color='red',show=False)\n",
    "p[0].line_color='blue'\n",
    "p.show()"
   ]
  },
  {
   "cell_type": "markdown",
   "id": "f96470f9",
   "metadata": {},
   "source": [
    "### Problem 1\n",
    "\n",
    "Plot the following parametric curves. (You probably want to plot each on its own set of axes.)\n",
    "\n",
    "If you don't want to type out `sy.plot_parametric` every time, you could add a line like `pp=sy.plot_parametric`.\n",
    "\n",
    "(a) $x=t^3-2t, y=t^2-t, t\\in [-1,2]$\n",
    "\n",
    "(b) $x=t+\\sin(2t), y=t+\\sin(3t), t\\in [-2\\pi, 2\\pi]$\n",
    "\n",
    "(c) $x=\\sin(3t), y=\\sin(4t), t\\in [0,2\\pi]$"
   ]
  },
  {
   "cell_type": "code",
   "execution_count": null,
   "id": "98f78fd1",
   "metadata": {},
   "outputs": [],
   "source": []
  },
  {
   "cell_type": "code",
   "execution_count": null,
   "id": "bc77594f",
   "metadata": {},
   "outputs": [],
   "source": []
  },
  {
   "cell_type": "code",
   "execution_count": null,
   "id": "218d9d55",
   "metadata": {},
   "outputs": [],
   "source": []
  },
  {
   "cell_type": "markdown",
   "id": "fc94e5cc",
   "metadata": {},
   "source": [
    "## Plotting parametric curves with GeoGebra\n",
    "\n",
    "Sometimes you want something a little simpler to use than a Jupyter notebook. Fortunately, there are some great free software programs out there, such as Desmos, and [GeoGebra](https://geogebra.org). GeoGebra can do derivatives, integrals, geometry, statistics, and more. And the interface involves a little more pointing and clicking, if you like that sort of thing.\n",
    "\n",
    "Now, I could send you over to the GeoGebra website for the next part, but we are going to embed GeoGebra in our notebook. (Why, because we can!) It's an HTML object, so we need a bit of preparation."
   ]
  },
  {
   "cell_type": "code",
   "execution_count": null,
   "id": "768bad93",
   "metadata": {},
   "outputs": [],
   "source": [
    "%%html\n",
    "\n",
    "<script src=\"https://cdn.geogebra.org.apps/deployggb.js\"></script>"
   ]
  },
  {
   "cell_type": "code",
   "execution_count": null,
   "id": "29688af9",
   "metadata": {},
   "outputs": [],
   "source": [
    "from IPython.core.display import display, HTML"
   ]
  },
  {
   "cell_type": "markdown",
   "id": "333ba6f0",
   "metadata": {},
   "source": [
    "The code below will create a blank GeoGebra calculator. You probably don't want the virtual keyboard that will pop up; click on the X in the top-right corner of that keyboard to hide it.\n",
    "\n",
    "You can create plots using the input box, which is next to the $+$ sign at the top-left.\n",
    "\n",
    "The syntax for a parametric curve is: `Curve(Expression,Expression,Parameter Variable,Start value,End value)`. For example, you could plot the unit circle using `Curve(cos(t),sin(t),t,0,2*pi)`.\n",
    "\n",
    "### Problem 2\n",
    "\n",
    "Use the GeoGebra applet below to plot the curve $x=\\cos(t+\\cos(2t)),y=\\sin(t+\\sin(4t)), t\\in[0,2\\pi]$.\n",
    "\n",
    "(This will not show up when you download the notebook as PDF. If you want to include it, download the notebook as HTML, and then print the resulting HTML.)"
   ]
  },
  {
   "cell_type": "code",
   "execution_count": null,
   "id": "746d9128",
   "metadata": {},
   "outputs": [],
   "source": [
    "html_text = '''\n",
    "<div id=\"ggb1\"></div>\n",
    "<script> \n",
    "    require.config({paths: {gb: \"https://cdn.geogebra.org/apps/deployggb\"}});\n",
    "    require([\"gb\"], function(gb) {\n",
    "      var ggbApp = new GGBApplet({\n",
    "          \"height\": 600,\n",
    "          \"showToolBar\": true,\n",
    "          \"showMenuBar\": false,\n",
    "          \"showAlgebraInput\": true,\n",
    "          \"showResetIcon\": true,\n",
    "          \"enableLabelDrags\": true,\n",
    "          \"enableRightClick\": true,\n",
    "          \"enableShiftDragZoom\": true,\n",
    "          \"useBrowserForJS\": false\n",
    "      }, 'ggb1');\n",
    "\n",
    "  ggbApp.inject();\n",
    "    });\n",
    "</script>\n",
    "'''\n",
    "\n",
    "display(HTML(html_text))"
   ]
  },
  {
   "cell_type": "markdown",
   "id": "c1179807",
   "metadata": {},
   "source": [
    "One additional note on GeoGebra: on the [GeoGebra website](https://www.geogebra.org/materials) there are many pre-existing examples of GeoGebra applets. If you ever want to embed one of these into a Jupyter notebook, you can.\n",
    "For example, here is a Riemann sum calculator that I created: https://www.geogebra.org/m/f2effbwq\n",
    "\n",
    "The end of the URL is the \"material ID\", which in this case is `f2effbwq`. To use this in a Jupyter notebook, we would add the line `\"material_id\": \"f2effbwq\"` to the script text above. If we want to turn off things like the tool bar and the input bar, we change the values for those from \"true\" to \"false\". Here's that calculator. Note the need to change the line `<div id=\"ggb1\"></div>` to `<div id=\"ggb2\"></div>`, as well as a further instance of `ggb1` at the end of the `var` command. (Feel free to see what happens if you don't!)\n",
    "\n"
   ]
  },
  {
   "cell_type": "code",
   "execution_count": null,
   "id": "3ab4fa26",
   "metadata": {},
   "outputs": [],
   "source": [
    "html_text = '''\n",
    "<div id=\"ggb2\"></div>\n",
    "<script> \n",
    "    require.config({paths: {gb: \"https://cdn.geogebra.org/apps/deployggb\"}});\n",
    "    require([\"gb\"], function(gb) {\n",
    "      var ggbApp = new GGBApplet({\n",
    "          \"height\": 850,\n",
    "          \"showToolBar\": false,\n",
    "          \"showMenuBar\": false,\n",
    "          \"showAlgebraInput\": false,\n",
    "          \"showResetIcon\": true,\n",
    "          \"enableLabelDrags\": false,\n",
    "          \"enableRightClick\": false,\n",
    "          \"enableShiftDragZoom\": true,\n",
    "          \"useBrowserForJS\": false,\n",
    "          \"material_id\": \"f2effbwq\"\n",
    "      }, 'ggb2');\n",
    "\n",
    "  ggbApp.inject();\n",
    "    });\n",
    "</script>\n",
    "'''\n",
    "\n",
    "display(HTML(html_text))"
   ]
  },
  {
   "cell_type": "markdown",
   "id": "45d4dacc",
   "metadata": {},
   "source": [
    "\n",
    "### Problem 3\n",
    "\n",
    "Using either SymPy or GeoGebra, use parametric curves to generate an emoji of your choice.\n",
    "\n",
    "**Note**: you will need more than one curve. Unless you are feeling ambitious, I recommend sticking to the classic smiley face."
   ]
  },
  {
   "cell_type": "code",
   "execution_count": null,
   "id": "cf059911",
   "metadata": {},
   "outputs": [],
   "source": []
  },
  {
   "cell_type": "markdown",
   "id": "62df27d3",
   "metadata": {},
   "source": [
    "## Arc length for parametric curves\n",
    "\n",
    "The formula for arc length for parametric curves is a fairly straightforward extension of the one we learned earlier. For a graph $y=f(x)$, we started with $\\Delta s = \\sqrt{\\Delta x^2+\\Delta y^2}$ and factored out the $\\Delta x$ to get $\\Delta s = \\sqrt{1+\\left(\\frac{\\Delta y}{\\Delta x}\\right)^2}\\Delta x$. Taking the limit gave us $ds = \\sqrt{1+f'(x)^2}dx$.\n",
    "\n",
    "Now, given $x(t)$ and $y(t)$, we have $dx = x'(t)\\,dt$ and $dy = y'(t)\\,dt$. The same sort of argument gives us\n",
    "$$ds = \\sqrt{x'(t)^2+y'(t)^2}\\,dt.$$\n",
    "\n",
    "### Problem 4\n",
    "\n",
    "For the curve given by $x=\\dfrac{t}{1+t}, y=\\ln(1+t), t\\in [0,2]$:\n",
    "\n",
    "(a) Set up the integral using SymPy, and display the integral. (To display an integral without evaluating it, use `Integral` instead of `integrate`.) You will need to define the expressions for $x$ and $y$ and compute their derivatives before setting up the integral."
   ]
  },
  {
   "cell_type": "code",
   "execution_count": null,
   "id": "103c353e",
   "metadata": {},
   "outputs": [],
   "source": []
  },
  {
   "cell_type": "markdown",
   "id": "c320f578",
   "metadata": {},
   "source": [
    "(b) Evaluate the integral using SymPy. \n",
    "\n",
    "**Note**: if SymPy fails to evaluate the integral, try using the change of variables $u=t+1$, and see if it succeeds with the resulting integral. Don't forget to adjust the bounds!"
   ]
  },
  {
   "cell_type": "code",
   "execution_count": null,
   "id": "7d27eeec",
   "metadata": {},
   "outputs": [],
   "source": []
  },
  {
   "cell_type": "markdown",
   "id": "4fbba08f",
   "metadata": {},
   "source": [
    "### Problem 5\n",
    "\n",
    "The equations\n",
    "$$\\begin{aligned}x&=11\\cos(t)-4\\cos(11t/2)\\\\y&=11\\sin(t)-4\\sin(11t/2)\\end{aligned}$$\n",
    "define a curve called the **epitrochoid**.\n",
    "\n",
    "(a) Plot the curve using SymPy, and experiment to determine what interval gives the complete length of the curve.\n",
    "\n",
    "(b) Approximate the length of the curve using Simpson's Rule with 50 subintervals."
   ]
  },
  {
   "cell_type": "code",
   "execution_count": null,
   "id": "46a4aa6b",
   "metadata": {},
   "outputs": [],
   "source": []
  }
 ],
 "metadata": {
  "kernelspec": {
   "display_name": "Python 3 (ipykernel)",
   "language": "python",
   "name": "python3"
  },
  "language_info": {
   "codemirror_mode": {
    "name": "ipython",
    "version": 3
   },
   "file_extension": ".py",
   "mimetype": "text/x-python",
   "name": "python",
   "nbconvert_exporter": "python",
   "pygments_lexer": "ipython3",
   "version": "3.10.7"
  }
 },
 "nbformat": 4,
 "nbformat_minor": 5
}
