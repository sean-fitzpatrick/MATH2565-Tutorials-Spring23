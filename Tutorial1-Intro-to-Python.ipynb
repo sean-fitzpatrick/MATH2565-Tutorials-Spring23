{
 "cells": [
  {
   "cell_type": "markdown",
   "id": "4e45f2b9",
   "metadata": {},
   "source": [
    "# Tutorial 1: Numpy and Sympy for Calculus\n",
    "\n",
    "Two useful packages for doing calculus in Python are Numpy (which allows for numerical computations) and Sympy (which supports symbolic manipulation). These can be used without any prior experience programming in Python (or at all), especially in the Jupyter notebook format, where code snippets can be provided for you to edit and run as needed.\n",
    "\n",
    "A Jupyter notebook (such as this one) has two types of content: code cells, which contain Python code, and Markdown cells, which contain text that is formatted using Markdown.\n",
    "\n",
    "To edit any text in a Jupyter notebook, **double-click on it**. To create a new cell, click the $+$ button in the toolbar above. By default, a new cell is a code cell. To change it to Markdown, use the drop-down menu in the toolbar.\n",
    "\n",
    "To save (and render) a Markdown cell, or to execute a code cell, either hit `Shift+Enter` on the keyboard, or click the Run button in the toolbar. For help with Markdown formatting, you may find [this markdown cheat-sheet](https://www.markdownguide.org/cheat-sheet/) useful. You can type mathematics in a Markdown cell using [LaTeX syntax](https://en.wikibooks.org/wiki/LaTeX/Mathematics). To enter mathematics, wrap it in `$` delimiters. For example, `$\\sin(4\\pi/3)=-\\frac{\\sqrt{3}}{2}$` produces $\\sin(4\\pi/3)=-\\frac{\\sqrt{3}}{2}$. If we use `$$` delimiters, we get \"display math\" on its own line:\n",
    "$$\\sin(4\\pi/3)=-\\frac{\\sqrt{3}}{2}$$\n",
    "\n",
    "A great resource for using Python in mathematics is the [website of Patrick Walls at UBC](https://personal.math.ubc.ca/~pwalls/math-python/). In particular, you will find resources there on how to do root finding, numerical integration, and differential equations."
   ]
  },
  {
   "cell_type": "markdown",
   "id": "5aa17144",
   "metadata": {},
   "source": [
    "## Numpy\n",
    "\n",
    "Often Numpy is used together with Matplotlib: we load these into Python as follows:"
   ]
  },
  {
   "cell_type": "code",
   "execution_count": null,
   "id": "cb031691",
   "metadata": {},
   "outputs": [],
   "source": [
    "import numpy as np\n",
    "import matplotlib.pyplot as plt\n",
    "%matplotlib inline"
   ]
  },
  {
   "cell_type": "markdown",
   "id": "b9435daa",
   "metadata": {},
   "source": [
    "The `import as` creates a prefix that allows us to call functions specific to each library. This can be important when multiple Python libraries are in use, because each might have a different definition of a particular function.\n",
    "\n",
    "Numpy defines all the common [mathematical functions](https://numpy.org/doc/stable/reference/routines.math.html) you'll need, such as the sine function. We would call the function $\\sin(x)$ using `np.sin` (note the `np` prefix). Here is how we would calculate the sine of an angle:"
   ]
  },
  {
   "cell_type": "code",
   "execution_count": null,
   "id": "712e87fe",
   "metadata": {},
   "outputs": [],
   "source": [
    "np.sin(pi/3)"
   ]
  },
  {
   "cell_type": "markdown",
   "id": "ab0ca642",
   "metadata": {},
   "source": [
    "Did that not work? It's because `pi` is not a core object in Python! It's defined in Numpy though. Try replacing `pi` with `np.pi` and re-running the cell above.\n",
    "\n",
    "Now let's try plotting. First we have to define a function to plot."
   ]
  },
  {
   "cell_type": "code",
   "execution_count": null,
   "id": "19fafb34",
   "metadata": {
    "hidden": false
   },
   "outputs": [],
   "source": [
    "def f(x):\n",
    "    return np.sin(x)"
   ]
  },
  {
   "cell_type": "markdown",
   "id": "7559bc0d",
   "metadata": {
    "hidden": false
   },
   "source": [
    "A faster (but maybe more confusing) way to define our function is to use Python's `lambda` syntax. We also could have done\n",
    "```\n",
    "f = lambda x : np.sin(x)\n",
    "```\n",
    "\n",
    "Plotting takes more than just defining the function -- we also have to define the input and output variables!\n",
    "\n",
    "The `linspace` command in Numpy produces a set of evenly spaced values. Here's how we set 100 points between $-\\pi$ and $\\pi$:"
   ]
  },
  {
   "cell_type": "code",
   "execution_count": null,
   "id": "b4a41bc3",
   "metadata": {
    "hidden": false
   },
   "outputs": [],
   "source": [
    "x = np.linspace(-np.pi,np.pi,100)"
   ]
  },
  {
   "cell_type": "markdown",
   "id": "97f9aed0",
   "metadata": {
    "hidden": false
   },
   "source": [
    "Next, we can define $y$ as a function of $x$, and plot."
   ]
  },
  {
   "cell_type": "code",
   "execution_count": null,
   "id": "70782ea7",
   "metadata": {
    "hidden": false
   },
   "outputs": [],
   "source": [
    "y = f(x)\n",
    "plt.plot(x,y)"
   ]
  },
  {
   "cell_type": "markdown",
   "id": "dd03f1c8",
   "metadata": {},
   "source": [
    "Numpy has a lot of powerful numerical tools for doing linear algebra, but since Math 1410 is not officially a prerequisite for Math 2565, we won't describe those here."
   ]
  },
  {
   "cell_type": "markdown",
   "id": "1a0775ad",
   "metadata": {},
   "source": [
    "### Exercise\n",
    "\n",
    "Plot  $\\tan(x)$ for $x \\in [-\\pi, \\pi]$."
   ]
  },
  {
   "cell_type": "code",
   "execution_count": null,
   "id": "cfa68699",
   "metadata": {},
   "outputs": [],
   "source": []
  },
  {
   "cell_type": "markdown",
   "id": "d524e775",
   "metadata": {
    "hidden": false
   },
   "source": [
    "## SciPy\n",
    "\n",
    "Scientific Python is a library that extends the functionality of NumPy (which was mostly written with linear algebra in mind).\n",
    "\n",
    "For example, it has a number of ways of doing [numerical integration](https://docs.scipy.org/doc/scipy/reference/tutorial/integrate.html) that you might encounter later in the course.\n",
    "\n",
    "## SymPy\n",
    "\n",
    "SymPy allows for symbolic manipulation. It's also really nice to use in a Jupyter notebook, because you can get the output to display as nicely formatted mathematics, using the `init_printing()` function."
   ]
  },
  {
   "cell_type": "code",
   "execution_count": null,
   "id": "c1f5eb3b",
   "metadata": {
    "hidden": false
   },
   "outputs": [],
   "source": [
    "import sympy as sy\n",
    "sy.init_printing()"
   ]
  },
  {
   "cell_type": "markdown",
   "id": "10baef0e",
   "metadata": {
    "hidden": false
   },
   "source": [
    "A common first step is to tell SymPy that you're going to use x and y as variables:"
   ]
  },
  {
   "cell_type": "code",
   "execution_count": null,
   "id": "cbdbde16",
   "metadata": {
    "hidden": false
   },
   "outputs": [],
   "source": [
    "x, y = sy.symbols('x y')"
   ]
  },
  {
   "cell_type": "markdown",
   "id": "2a98a127",
   "metadata": {
    "hidden": false
   },
   "source": [
    "When using mathematical functions, we need to make sure we're using the SymPy version. We can define functions of one or more variables:"
   ]
  },
  {
   "cell_type": "code",
   "execution_count": null,
   "id": "a1135f98",
   "metadata": {
    "hidden": false
   },
   "outputs": [],
   "source": [
    "f = (x**2)*sy.sin(2*x)\n",
    "g = x*y*sy.exp(4*x*y)\n",
    "f,g"
   ]
  },
  {
   "cell_type": "markdown",
   "id": "c4473cc7",
   "metadata": {
    "hidden": false
   },
   "source": [
    "Note the use of `*` for **any** multiplication, and `**` for exponents. We can take derivatives:"
   ]
  },
  {
   "cell_type": "code",
   "execution_count": null,
   "id": "8cc583a0",
   "metadata": {
    "hidden": false
   },
   "outputs": [],
   "source": [
    "sy.diff(f,x)"
   ]
  },
  {
   "cell_type": "code",
   "execution_count": null,
   "id": "3e634bcd",
   "metadata": {
    "hidden": false
   },
   "outputs": [],
   "source": [
    "sy.diff(f,x,x)"
   ]
  },
  {
   "cell_type": "code",
   "execution_count": null,
   "id": "ef96b0a5",
   "metadata": {
    "hidden": false
   },
   "outputs": [],
   "source": [
    "sy.diff(g,x)"
   ]
  },
  {
   "cell_type": "code",
   "execution_count": null,
   "id": "96c37a48",
   "metadata": {
    "hidden": false
   },
   "outputs": [],
   "source": [
    "sy.diff(g,y)"
   ]
  },
  {
   "cell_type": "code",
   "execution_count": null,
   "id": "127881a8",
   "metadata": {
    "hidden": false
   },
   "outputs": [],
   "source": [
    "sy.diff(g,x,y)-sy.diff(g,y,x)"
   ]
  },
  {
   "cell_type": "markdown",
   "id": "5041678e",
   "metadata": {
    "hidden": false
   },
   "source": [
    "Note that for the function $g(x,y) = xye^{4xy}$ those are partial derivatives, and the fact that that last line is zero is a theorem!\n",
    "\n",
    "To do indefinite integrals, we just use the `integrate` command. We need to specify a function and the integration variable."
   ]
  },
  {
   "cell_type": "code",
   "execution_count": null,
   "id": "ce9531df",
   "metadata": {
    "hidden": false
   },
   "outputs": [],
   "source": [
    "sy.integrate(f,x)"
   ]
  },
  {
   "cell_type": "markdown",
   "id": "50183197",
   "metadata": {
    "hidden": false
   },
   "source": [
    "(Yes, that's some integration by parts you're seeing there!)\n",
    "\n",
    "For definite integrals, we just have to add in the limits of integration. But note that we need to enter the ordered triple `(x.0,sy.pi/2)`. This time, $\\pi$ comes from SymPy, not Numpy:"
   ]
  },
  {
   "cell_type": "code",
   "execution_count": null,
   "id": "abe372ac",
   "metadata": {
    "hidden": false
   },
   "outputs": [],
   "source": [
    "sy.integrate(f,(x,0,sy.pi/2))"
   ]
  },
  {
   "cell_type": "markdown",
   "id": "c4cf0ee8",
   "metadata": {
    "hidden": false
   },
   "source": [
    "Just for fun: try changing `sp.pi` to `np.pi`. What happens to your output?"
   ]
  },
  {
   "cell_type": "code",
   "execution_count": null,
   "id": "2c725e58",
   "metadata": {},
   "outputs": [],
   "source": []
  },
  {
   "cell_type": "markdown",
   "id": "a633aac9",
   "metadata": {},
   "source": [
    "We can also plot using SymPy. The basic command is quite simple: `plot(f)`."
   ]
  },
  {
   "cell_type": "code",
   "execution_count": null,
   "id": "0d84b15c",
   "metadata": {
    "hidden": false
   },
   "outputs": [],
   "source": [
    "sy.plot(f)"
   ]
  },
  {
   "cell_type": "markdown",
   "id": "ccd03451",
   "metadata": {},
   "source": [
    "You can modify the plot in many ways. For example, to specify a domain, we can write something like `plot(f,(x,-2,2))`. For more advanced features, such as adding labels and colours, see the [SymPy documentation](https://docs.sympy.org/latest/modules/plotting.html).\n",
    "\n",
    "To plot more than one graph on the same axes, we need to store each graph, and then combine them. When we first enter the plots, we don't want them to show, so we use the `show=False` option. The first way to combine the plots is with the `append` command. The `[0]` is there because the object `plot(f,show=False)` contains two entries in a list: `f`, and `show=False`, and we want the first of these."
   ]
  },
  {
   "cell_type": "code",
   "execution_count": null,
   "id": "76a26140",
   "metadata": {},
   "outputs": [],
   "source": [
    "p1 = sy.plot(f,show=False)\n",
    "p2 = sy.plot(x**2-2*x,show=False)\n",
    "p1.append(p2[0])\n",
    "p1"
   ]
  },
  {
   "cell_type": "markdown",
   "id": "4d60cd44",
   "metadata": {},
   "source": [
    "That likely didn't do anything, because we forgot that we want to \"show\" the plot. Instead, we do:"
   ]
  },
  {
   "cell_type": "code",
   "execution_count": null,
   "id": "b6fcb7fa",
   "metadata": {},
   "outputs": [],
   "source": [
    "p1.show()"
   ]
  },
  {
   "cell_type": "markdown",
   "id": "c1f311b9",
   "metadata": {},
   "source": [
    "Another option in the documentation is the `extend` command. I'm not sure what the difference is!"
   ]
  },
  {
   "cell_type": "code",
   "execution_count": null,
   "id": "f3cc8830",
   "metadata": {},
   "outputs": [],
   "source": [
    "p1 = sy.plot(f,show=False)\n",
    "p2 = sy.plot(x**2-2*x,show=False)\n",
    "p1.extend(p2)\n",
    "p1.show()"
   ]
  },
  {
   "cell_type": "markdown",
   "id": "33040cb4",
   "metadata": {},
   "source": [
    "**Exercise**: find the critical points of $f(x) = \\dfrac{x^2+3}{x-1}$. (You may find that Sympy's `factor` command is useful!)"
   ]
  },
  {
   "cell_type": "code",
   "execution_count": null,
   "id": "3bd7eb5d",
   "metadata": {},
   "outputs": [],
   "source": []
  },
  {
   "cell_type": "markdown",
   "id": "5fcfeef4",
   "metadata": {},
   "source": [
    "**Exercise**: plot the following on a single set of axes.\n",
    "\n",
    "1. The function $f(x) = x^2\\ln(x)$\n",
    "2. The derivative $f'(x)$\n",
    "3. The antiderivative $F(x) = \\int_1^x f(t)\\,dt$\n",
    "4. The tangent line to $f(x)$ when $x=1$"
   ]
  },
  {
   "cell_type": "code",
   "execution_count": null,
   "id": "99ba1bb2",
   "metadata": {},
   "outputs": [],
   "source": []
  }
 ],
 "metadata": {
  "kernelspec": {
   "display_name": "Python 3 (ipykernel)",
   "language": "python",
   "name": "python3"
  },
  "language_info": {
   "codemirror_mode": {
    "name": "ipython",
    "version": 3
   },
   "file_extension": ".py",
   "mimetype": "text/x-python",
   "name": "python",
   "nbconvert_exporter": "python",
   "pygments_lexer": "ipython3",
   "version": "3.10.7"
  }
 },
 "nbformat": 4,
 "nbformat_minor": 5
}
