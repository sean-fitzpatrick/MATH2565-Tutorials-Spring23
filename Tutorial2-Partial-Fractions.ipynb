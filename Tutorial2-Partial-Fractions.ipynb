{
 "cells": [
  {
   "cell_type": "markdown",
   "id": "driving-torture",
   "metadata": {},
   "source": [
    "# Math 2565 Tutorial 2: Partial Fractions\n",
    "## University of Lethbridge\n",
    "\n",
    "The method of partial fraction decomposition is a useful tool for evaluating integrals of rational functions, and it comes up in other contexts as well, such as the method of Laplace transforms for differential equations.\n",
    "\n",
    "A problem (which one quickly discovers) is that determining the coefficients for a partial fraction decomposition can be an exercise that is both tedious and error-prone. The brute force method (equating coefficients and solving a system of equations) is not particularly efficient.\n",
    "\n",
    "If it turns out that partial fractions are going to be a part of your life, then you'd like to be able to handle them quickly and accurately. You have two options:\n",
    "\n",
    "1. Let the computer do it for you\n",
    "2. Develop systematic methods (formulas, even!) to get the job done\n",
    "\n",
    "You explored the second option on your assignment. Now, we'll see how the computer implements those methods for us."
   ]
  },
  {
   "cell_type": "code",
   "execution_count": null,
   "id": "objective-modification",
   "metadata": {},
   "outputs": [],
   "source": [
    "import sympy as sy\n",
    "sy.init_printing()\n",
    "x=sy.symbols('x')"
   ]
  },
  {
   "cell_type": "markdown",
   "id": "corporate-badge",
   "metadata": {},
   "source": [
    "### 1. Research and document how to manipulate rational functions using Sympy.\n",
    "\n",
    "First, take a minute to search online (try search terms like \"sympy partial fraction\").\n",
    "\n",
    "You'll probably discover some documentation, including details on the `apart()` command. Other commands that you might find useful include `factor()` and `simplify()`.\n",
    "\n",
    "(Note that \"simplify\" can take on many meanings, depending on the context. It does not always give you what you want.)\n",
    "\n",
    "You don't have to submit anything for this question, but make sure you know how to use the `extension` option in cases where you do not have rational roots. For example, to factor $f(x)=x^2-2$, we would need to run a command like `f.factor(extension=sy.sqrt(2))`."
   ]
  },
  {
   "cell_type": "markdown",
   "id": "affiliated-palace",
   "metadata": {},
   "source": [
    "### 2. Demonstrate how this works with the following examples.\n",
    "\n",
    "For each example, first use the `factor` command to determine the factors of the denominator (just for information purposes), and then use the `apart` command to perform the decomposition.\n",
    "\n",
    "We're working with **SymPy**, so you can enter a function using the syntax `f=expr(x)`, where `expr(x)` is whatever expression in x defines the function. Remember that you need to use `**` for exponents, and `*` for multiplication, even by a coefficient.\n",
    "\n",
    "a) For the function $f(x)=\\dfrac{3x^2-2x+1}{x^4+2x^3+2x^2+2x+1}$"
   ]
  },
  {
   "cell_type": "code",
   "execution_count": null,
   "id": "optical-hypothetical",
   "metadata": {},
   "outputs": [],
   "source": [
    "f = (3*x**2-2*x+1)/(x**4+2*x**3+2*x**2+2*x+1)\n",
    "f.factor()"
   ]
  },
  {
   "cell_type": "code",
   "execution_count": null,
   "id": "c06a7618",
   "metadata": {},
   "outputs": [],
   "source": []
  },
  {
   "cell_type": "markdown",
   "id": "341fbb29",
   "metadata": {},
   "source": [
    "b) For the function $g(x)=\\dfrac{2x+1}{x^3+2x^2-3x-6}$. (You may need to add an `extension`.)"
   ]
  },
  {
   "cell_type": "code",
   "execution_count": null,
   "id": "8c3df92f",
   "metadata": {},
   "outputs": [],
   "source": [
    "g=(2*x+1)/(x**3+2*x**2-3*x-6)\n",
    "g.factor(extension=sy.sqrt(3))"
   ]
  },
  {
   "cell_type": "code",
   "execution_count": null,
   "id": "a9b38fe5",
   "metadata": {},
   "outputs": [],
   "source": []
  },
  {
   "cell_type": "markdown",
   "id": "79ecc52a",
   "metadata": {},
   "source": [
    "c) For the function $h(x)=\\dfrac{1}{(x^2-a^2)(x-b)^3}$ \n",
    "\n",
    "(Don't forget to define $a$ and $b$ as symbols! You will also need to specify that $x$ is the variable in the `apart` command.)"
   ]
  },
  {
   "cell_type": "code",
   "execution_count": null,
   "id": "18b96071",
   "metadata": {},
   "outputs": [],
   "source": []
  },
  {
   "cell_type": "code",
   "execution_count": null,
   "id": "ecb44829",
   "metadata": {},
   "outputs": [],
   "source": []
  },
  {
   "cell_type": "markdown",
   "id": "ccbe93b0",
   "metadata": {},
   "source": [
    "d) For the function $r(x) = \\dfrac{1}{ax^2+bx+1}$. (Example from [Stack Overflow](https://stackoverflow.com/questions/39816638/partial-fraction-from-apart).)\n",
    "\n",
    "(You might need to invoke `full=True` here, and append with `.doit()` to get a human-readable result.)"
   ]
  },
  {
   "cell_type": "code",
   "execution_count": null,
   "id": "584ffca9",
   "metadata": {},
   "outputs": [],
   "source": []
  },
  {
   "cell_type": "code",
   "execution_count": null,
   "id": "4fe0b268",
   "metadata": {},
   "outputs": [],
   "source": []
  },
  {
   "cell_type": "markdown",
   "id": "04475c20",
   "metadata": {},
   "source": [
    "### 3. Irreducible factors and complex roots\n",
    "\n",
    "The formulas we derived on the assignment deal with factors of the form $(x-a)^k$. What if there is an irreducible factor? It turns out these are only irreducible if we work over the real numbers. With complex numbers, we can factor any polynomial. For example, the factor $x^2+1$ in question 2(a) above can be factored as $(x-i)(x+i)$, where $i=\\sqrt{-1}$. In SymPy, we can call the complex number $i$ using `sy.I`.\n",
    "\n",
    "Try running the `factor` and `apart` commands for 2(a) again, but this time, include the option `extension=sy.I`."
   ]
  },
  {
   "cell_type": "code",
   "execution_count": null,
   "id": "b40eb6a1",
   "metadata": {},
   "outputs": [],
   "source": []
  },
  {
   "cell_type": "code",
   "execution_count": null,
   "id": "7ec7ef0d",
   "metadata": {},
   "outputs": [],
   "source": []
  }
 ],
 "metadata": {
  "kernelspec": {
   "display_name": "Python 3 (ipykernel)",
   "language": "python",
   "name": "python3"
  },
  "language_info": {
   "codemirror_mode": {
    "name": "ipython",
    "version": 3
   },
   "file_extension": ".py",
   "mimetype": "text/x-python",
   "name": "python",
   "nbconvert_exporter": "python",
   "pygments_lexer": "ipython3",
   "version": "3.10.7"
  }
 },
 "nbformat": 4,
 "nbformat_minor": 5
}
