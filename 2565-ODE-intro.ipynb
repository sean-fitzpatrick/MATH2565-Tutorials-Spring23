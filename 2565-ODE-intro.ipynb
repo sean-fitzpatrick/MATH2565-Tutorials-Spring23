{
 "cells": [
  {
   "cell_type": "markdown",
   "metadata": {
    "hidden": false,
    "slideshow": {
     "slide_type": "slide"
    }
   },
   "source": [
    "# Introduction to Differential Equations\n",
    "\n",
    "## Graphical and Numerical Solutions\n",
    "\n",
    "### Math 2565\n",
    "### Spring 2023\n",
    "### University of Lethbridge\n",
    "\n",
    "#### Sean Fitzpatrick"
   ]
  },
  {
   "cell_type": "markdown",
   "metadata": {
    "hidden": false,
    "slideshow": {
     "slide_type": "slide"
    }
   },
   "source": [
    "## Differential Equations\n",
    "\n",
    "A **differential equation** is any equation relating a (typically unknown) function and one or more of its derivatives. The goal is to find the function(s) that satisfy the equation.\n",
    "\n",
    "Typically the function in a differential equation will be assigned to some *dependent variable* and depend on one or more *independent variables*.\n",
    "\n",
    "### Example\n",
    "\n",
    "$$y\\,' = 4\\cos(x)+2$$\n",
    "\n",
    "Here, $y$ is the dependent variable, $x$ is the independent variable, and a *solution* is given by $y = 4\\sin(x)+2x$."
   ]
  },
  {
   "cell_type": "markdown",
   "metadata": {
    "hidden": false,
    "slideshow": {
     "slide_type": "subslide"
    }
   },
   "source": [
    "### Terminology\n",
    "\n",
    "The **order** of a differential equation is the highest derivative that appears.\n",
    "\n",
    "An **ordinary differential equation** (ODE) involves only one independent variable.\n",
    "\n",
    "A **partial differential equation** (PDE) involves two or more independent variables (and partial derivatives).\n",
    "\n",
    "- First order ODE example: $$\\frac{dy}{dx} + x^2\\, y = e^x$$\n",
    "\n",
    "- Second order ODE example: $$y\\,'' - ky = 4\\sin(3x)$$\n",
    "\n",
    "- PDE example: $$\\frac{1}{i\\hbar}\\frac{\\partial^2 \\psi}{\\partial x^2} + V(x,t) = \\frac{\\partial \\psi}{\\partial t}$$"
   ]
  },
  {
   "cell_type": "markdown",
   "metadata": {
    "hidden": false,
    "slideshow": {
     "slide_type": "subslide"
    }
   },
   "source": [
    "### Initial Value Problems\n",
    "\n",
    "A solution to a differential equation typically involves one or more undetermined parameters.\n",
    "\n",
    "For example, $y=4\\sin(x)+2x$ is a solution to $y' = 4\\cos(x)+2$, but so is $y=4\\sin(x)+2x+C$ for any constant $C$.\n",
    "\n",
    "The number of parameters is equal to the order of the differential equation.\n",
    "\n",
    "A solution in terms of these parameters is called the **general solution**. Putting in values for each parameter produces a **particular solution**.\n",
    "\n",
    "Particular solutions are often determined by *initial values*.\n",
    "\n",
    "E.g. we can ask for $y'=4\\cos(x)+2x$, where $y(0)=2$. "
   ]
  },
  {
   "cell_type": "markdown",
   "metadata": {
    "hidden": false,
    "slideshow": {
     "slide_type": "subslide"
    }
   },
   "source": [
    "### Verifying Solutions\n",
    "\n",
    "To verify that $y=f(x)$ solves a differential equation, simply plug it in and confirm that it works.\n",
    "\n",
    "Examples:\n",
    "\n",
    "1. Verify that $x = \\cos(t)+\\sin(t)$ is a solution to $\\frac{dx}{dt}+x=2\\cos(t)$\n",
    "2. Show that $N(t)=Ce^{-5t}$ is a solution to $\\frac{dN}{dt} = -5N$, and find the value of $C$ such that $N(0)=2565$.\n",
    "3. Determine all values of $k$ such that $f(x)=Ce^{kx}$ is a solution to $y\\,''-4y\\,'+4y=0$. What about $g(x)=Cxe^{kx}$?"
   ]
  },
  {
   "cell_type": "markdown",
   "metadata": {
    "hidden": false,
    "slideshow": {
     "slide_type": "slide"
    }
   },
   "source": [
    "## Graphical Methods\n",
    "\n",
    "Many differential equations can be studied *qualitatively* in cases where they can't be studied analytically.\n",
    "\n",
    "(Finding exact solutions to real-world differential equation models is rare.)\n",
    "\n",
    "**Phase portraits** are an important tool for the study of dynamical systems. (These are especially useful for nonlinear ODEs and systems of ODEs.)\n",
    "\n",
    "Using phase portraits we can understand systems in terms of sinks, sources, stable and unstable equlibria, etc.\n",
    "\n",
    "**Direction fields** capture some of the same ideas, and are easier to understand at the introductory level."
   ]
  },
  {
   "cell_type": "markdown",
   "metadata": {
    "hidden": false,
    "slideshow": {
     "slide_type": "subslide"
    }
   },
   "source": [
    "### Phase diagrams for autonomous first order ODEs\n",
    "\n",
    "Most phase diagrams are higher-dimensional and correspond to systems of coupled first-order ODEs.\n",
    "\n",
    "They're also really cool, but beyond this course.\n",
    "\n",
    "We can do something similar for equations of the form $$\\dot{x} = \\frac{dx}{dt} = f(x).$$<br>\n",
    "(Note $f(x)$, not $f(x,t)$.)\n",
    "\n",
    "Here, we can determine whether $x(t)$ is increasing or decreasing simply by whether $f(x)$ is positive or negative. (Sign diagrams!)"
   ]
  },
  {
   "cell_type": "markdown",
   "metadata": {
    "hidden": false,
    "slideshow": {
     "slide_type": "subslide"
    }
   },
   "source": [
    "### Examples\n",
    "\n",
    "**Logistic model**: $$\\frac{dP}{dt} = kP\\left(1-\\frac{P}{M}\\right)$$\n",
    "\n",
    "Note: critical points of $f(x)$ in $\\dot{x} = f(x)$ correspond to equilibria. (What can you say about local max vs. local min?)\n",
    "\n",
    "Sometimes small changes in $f(x)$ lead to big changes in behaviour. This is called *bifurcation*.\n",
    "\n",
    "**Pitchfork bifurcation**: $$\\dot{x} = x(k-x^2)$$\n",
    "\n",
    "This has one critical point for $k\\leq 0$, and three, for $k>0$."
   ]
  },
  {
   "cell_type": "markdown",
   "metadata": {
    "hidden": false,
    "slideshow": {
     "slide_type": "subslide"
    }
   },
   "source": [
    "### Direction fields\n",
    "\n",
    "The idea is simple: most first-order ODEs can be put in the form $y' = f(x,y)$ for some function $f$ of $x$ and $y$.\n",
    "\n",
    "A solution $y=g(x)$ would satisfy $g'(x) = f(x,g(x))$. So $f(x,y)$ gives the **slope** of the tangent line to $y=g(x)$ at $(x,y)$.\n",
    "\n",
    "To construct a direction field, just evaluate $f(x,y)$ at a sample of points, and plot a short line segment through $(x,y)$ with slope $m=f(x,y)$."
   ]
  },
  {
   "cell_type": "markdown",
   "metadata": {
    "hidden": false,
    "slideshow": {
     "slide_type": "subslide"
    }
   },
   "source": [
    "### Example\n",
    "\n",
    "Plot a direction field for the differential equation $y\\,' = x-y$."
   ]
  },
  {
   "cell_type": "markdown",
   "metadata": {
    "hidden": false,
    "slideshow": {
     "slide_type": "subslide"
    }
   },
   "source": [
    "### Example\n",
    "\n",
    "Plot a direction field for the differential equation $y\\,' = x\\sin(y)$."
   ]
  },
  {
   "cell_type": "markdown",
   "metadata": {
    "hidden": false,
    "slideshow": {
     "slide_type": "fragment"
    }
   },
   "source": [
    "Maybe we don't want to plot this by hand. Let's [borrow some simple code](http://firsttimeprogrammer.blogspot.com/2014/09/generate-slope-fields-in-r-and-python.html) to do it. The code is set up for the equation $y'=x-y$. You'll need to change the definition of `f(x,y)` to do the $y'=x\\sin(y)$ example."
   ]
  },
  {
   "cell_type": "code",
   "execution_count": null,
   "metadata": {
    "hidden": false,
    "slideshow": {
     "slide_type": "fragment"
    }
   },
   "outputs": [],
   "source": [
    "import numpy as np\n",
    "import matplotlib.pyplot as plt\n",
    "from scipy.integrate import odeint\n",
    "%matplotlib inline"
   ]
  },
  {
   "cell_type": "markdown",
   "metadata": {},
   "source": [
    "Note one oddity here: we are defining `f(y,x)` instead of `f(x,y)`. This is because one of the ODE solvers from SciPy that we'll be using soon expects this order. (This resulted in an hour of confusion for me...)\n",
    "\n",
    "We can manage with this as long as we're aware of it when we define our slope field: we need to use `f(k,j)` for the slope instead of `f(j,k)`."
   ]
  },
  {
   "cell_type": "code",
   "execution_count": null,
   "metadata": {
    "hidden": false,
    "slideshow": {
     "slide_type": "fragment"
    }
   },
   "outputs": [],
   "source": [
    "def f(y,x): # define our equation\n",
    "    return x-y # change this to x*np.sin(y) for second example\n",
    "\n",
    "x = np.linspace(-5,5,20)\n",
    "y = np.linspace(-5,5,20)"
   ]
  },
  {
   "cell_type": "code",
   "execution_count": null,
   "metadata": {
    "hidden": false,
    "slideshow": {
     "slide_type": "subslide"
    }
   },
   "outputs": [],
   "source": [
    "def dfield(f):\n",
    "    for j in x:\n",
    "        for k in y:\n",
    "            slope = f(k,j)\n",
    "            domain = np.linspace(j-0.05,j+0.05,2)\n",
    "            def fun(y1,x1):\n",
    "                z = slope*(domain-x1)+y1\n",
    "                return z\n",
    "            plt.plot(domain,fun(k,j),solid_capstyle='projecting',solid_joinstyle='bevel')\n",
    "\n",
    "    plt.title(\"Slope field for y'=f(x,y)\")\n",
    "    plt.grid(True)\n",
    "    plt.show()\n",
    "dfield(f)"
   ]
  },
  {
   "cell_type": "markdown",
   "metadata": {
    "hidden": false,
    "slideshow": {
     "slide_type": "subslide"
    }
   },
   "source": [
    "Next, we can try using the computer to solve the ODE, and see how the solution fits.\n",
    "\n",
    "We're using the *SciPy*, which is quite powerful. I've borred an example [from here](https://sam-dolan.staff.shef.ac.uk/mas212/notebooks/ODE_Example.html) that solves a problem similar to ours.\n",
    "\n",
    "If you anticipate using the computer to solve ODEs in other courses, also consider *SymPy* for equations that can be solved exactly."
   ]
  },
  {
   "cell_type": "code",
   "execution_count": null,
   "metadata": {
    "hidden": false,
    "slideshow": {
     "slide_type": "fragment"
    }
   },
   "outputs": [],
   "source": [
    "#If you need to change the function, uncomment the next two lines and update the definition\n",
    "#def f(y, x):\n",
    "#    return x - y\n",
    "\n",
    "#x = np.linspace(-5,5,100)\n",
    "y0 = 1.0  # the initial condition\n",
    "y = odeint(f, y0, x)\n",
    "y = np.array(y).flatten()"
   ]
  },
  {
   "cell_type": "code",
   "execution_count": null,
   "metadata": {
    "hidden": false,
    "slideshow": {
     "slide_type": "subslide"
    }
   },
   "outputs": [],
   "source": [
    "plt.xlabel(\"x\")\n",
    "plt.ylabel(\"y\")\n",
    "plt.plot(x, y);"
   ]
  },
  {
   "cell_type": "markdown",
   "metadata": {
    "slideshow": {
     "slide_type": "fragment"
    }
   },
   "source": [
    "The graph doesn't look great. This is mostly because we only used 20 sample points when we originally set things up for the direction field. Let's try uncommenting the `x=np.linspace(-5,5,100)` line above and then running the plot command again."
   ]
  },
  {
   "cell_type": "markdown",
   "metadata": {
    "hidden": false,
    "slideshow": {
     "slide_type": "subslide"
    }
   },
   "source": [
    "Now we try to combine things, and plot the solution curve on the same grid as the direction field. The `dfplot` code is based on the `dfield` code above, with additional lines added to include the solution curve."
   ]
  },
  {
   "cell_type": "code",
   "execution_count": null,
   "metadata": {
    "hidden": false,
    "slideshow": {
     "slide_type": "fragment"
    }
   },
   "outputs": [],
   "source": [
    "a = 0.0\n",
    "b = 5.0\n",
    "c = 0.0\n",
    "d = 5.0\n",
    "slopesamples = 20\n",
    "solvesamples = 100\n",
    "x = np.linspace(a,b,slopesamples)\n",
    "y = np.linspace(c,d,slopesamples)\n",
    "xsolve = np.linspace(a,b,solvesamples)\n",
    "#y0 = -1.0\n",
    "\n",
    "def func(y,x):\n",
    "    return x-y\n",
    "\n",
    "def dfplot(func,y0):\n",
    "        for j in x:\n",
    "            for k in y:\n",
    "                slope = func(k,j)\n",
    "                domain = np.linspace(j-0.05,j+0.05,2)\n",
    "                def fun(x1,y1):\n",
    "                    z = slope*(domain-x1)+y1\n",
    "                    return z\n",
    "                ysolve = odeint(func, y0, xsolve)\n",
    "                ysolve = np.array(ysolve).flatten()\n",
    "                plt.plot(domain,fun(j,k),solid_capstyle='projecting',solid_joinstyle='bevel')\n",
    "                plt.plot(xsolve,ysolve)\n",
    "\n",
    "\n",
    "        plt.title(\"Slope field for y'=f(x,y)\")\n",
    "        plt.grid(True)\n",
    "        plt.ylim(c,d)\n",
    "        plt.xlim(a,b)"
   ]
  },
  {
   "cell_type": "code",
   "execution_count": null,
   "metadata": {
    "hidden": false,
    "slideshow": {
     "slide_type": "subslide"
    }
   },
   "outputs": [],
   "source": [
    "dfplot(func,1.0)"
   ]
  },
  {
   "cell_type": "markdown",
   "metadata": {
    "hidden": false,
    "slideshow": {
     "slide_type": "slide"
    }
   },
   "source": [
    "## Numerical Methods\n",
    "\n",
    "Note that the `odeint` function from SciPy does not give us a function in the sense you're used to.\n",
    "\n",
    "Instead, for a set of possible $x$ values, it determines corresponding $y$ values numerically.\n",
    "\n",
    "There are some very sophisticated methods for doing this. We'll look at one of the most basic."
   ]
  },
  {
   "cell_type": "markdown",
   "metadata": {
    "hidden": false,
    "slideshow": {
     "slide_type": "subslide"
    }
   },
   "source": [
    "### Euler's Method\n",
    "\n",
    "- Essentially a numerical counterpart to slope fields.\n",
    "- Recall the linear approximation $$g(x_0+\\Delta x) \\approx g(x_0) + g'(x_0)\\Delta x$$.\n",
    "- Given $y'=f(x,y)$, look for solution $y=g(x)$ with initial condition $g(x_0)=y_0$.\n",
    "- Notice $g'(x_0) = f(x_0,y_0)$.\n",
    "- Proceed in \"steps\", with fixed **step size** $\\Delta x$ as follows:\n",
    "\n",
    "1. $(x_0,y_0)$ is given.\n",
    "2. $x_1 = x_0+\\Delta x$ and $y_1 = y_0+f(x_0,y_0)\\Delta x$\n",
    "3. $x_2 = x_0+2\\Delta x$ and $y_2 = y_1+f(x_1,y_1)\\Delta x$\n",
    "4. $x_3 = x_0+3\\Delta x$ and $y_3 = y_2+f(x_2,y_2)\\Delta x$\n",
    "\n",
    "etc."
   ]
  },
  {
   "cell_type": "markdown",
   "metadata": {
    "hidden": false,
    "slideshow": {
     "slide_type": "subslide"
    }
   },
   "source": [
    "### Error analysis\n",
    "\n",
    "Euler's method is simple, but imprecise.\n",
    "\n",
    "- Using linear approximation introduces truncation error.\n",
    "- Size of this error depends on step size.\n",
    "- Error compounds at every step due to recursive nature."
   ]
  },
  {
   "cell_type": "markdown",
   "metadata": {
    "hidden": false,
    "slideshow": {
     "slide_type": "subslide"
    }
   },
   "source": [
    "### Example\n",
    "\n",
    "Use Euler's method to approximate the solution to $y'=x-y$, with initial condition $y(0)=1$, step size of $0.1$, and 10 steps.\n",
    "\n",
    "|$i$ | $x_i$ | &nbsp; &nbsp; &nbsp; &nbsp; &nbsp; &nbsp; &nbsp; &nbsp; &nbsp; &nbsp; &nbsp; &nbsp; &nbsp; &nbsp; $y_i$ &nbsp; &nbsp; &nbsp; &nbsp; &nbsp; &nbsp; &nbsp; &nbsp; &nbsp; &nbsp; &nbsp; &nbsp; &nbsp; &nbsp; |\n",
    "|----|-------|------|\n",
    "| 0 | 0 | 1 |\n",
    "| 1 | 0.1 | $1+(0-1)(0.1) = 0.9$|\n",
    "| 2 | 0.2 | $0.9 + (0.1-0.9)(0.1) = 0.82$|\n",
    "| 3 | 0.3 |  |\n",
    "\n",
    "We might need a code cell as a calculator."
   ]
  },
  {
   "cell_type": "code",
   "execution_count": null,
   "metadata": {
    "hidden": false,
    "slideshow": {
     "slide_type": "fragment"
    }
   },
   "outputs": [],
   "source": []
  },
  {
   "cell_type": "markdown",
   "metadata": {
    "hidden": false,
    "slideshow": {
     "slide_type": "subslide"
    }
   },
   "source": [
    "### Code for Euler's Method\n",
    "\n",
    "The following is borrowed from [Patrick Walls at UBC](https://www.math.ubc.ca/~pwalls/math-python/differential-equations/first-order/). We define a function called odeEuler that implements the steps outlined above.\n",
    "\n",
    "Input is an ODE of the form $y'=f(y,t)$. Syntax is `odeEuler(f,y0,t)`, where:\n",
    "- `f` is our function\n",
    "- `y0` is the initial value for $y$, corresponding to the value in `t` at index 0.\n",
    "- `t` is a NumPy array (the values to be used for the steps)"
   ]
  },
  {
   "cell_type": "code",
   "execution_count": null,
   "metadata": {
    "hidden": false,
    "slideshow": {
     "slide_type": "fragment"
    }
   },
   "outputs": [],
   "source": [
    "def odeEuler(f,y0,t):\n",
    "    y = np.zeros(len(t))\n",
    "    y[0] = y0\n",
    "    for n in range(0,len(t)-1):\n",
    "        y[n+1] = y[n] + f(y[n],t[n])*(t[n+1] - t[n])\n",
    "    return y"
   ]
  },
  {
   "cell_type": "markdown",
   "metadata": {
    "hidden": false,
    "slideshow": {
     "slide_type": "subslide"
    }
   },
   "source": [
    "The output is a NumPy array containing the $y$ values correpsonding to the $t$ values in `t`. Let's try it out.<br>\n",
    "The next cell will print the sample $t$ values, and then the corresponding $y$ values. `np.linspace(0,1,11)` means we use the interval $[0,1]$, with 11 sample points."
   ]
  },
  {
   "cell_type": "code",
   "execution_count": null,
   "metadata": {
    "hidden": false,
    "slideshow": {
     "slide_type": "fragment"
    }
   },
   "outputs": [],
   "source": [
    "def f(y,t):\n",
    "    return t-y\n",
    "t = np.linspace(0,1,11)\n",
    "y0 = 1\n",
    "\n",
    "t,odeEuler(f,y0,t)"
   ]
  },
  {
   "cell_type": "markdown",
   "metadata": {
    "hidden": false,
    "slideshow": {
     "slide_type": "subslide"
    }
   },
   "source": [
    "#### Checking the solution\n",
    "\n",
    "How well does our algorithm work? We can plot our values against the exact ones.<br>\n",
    "The equation $$\\frac{dy}{dt} = t-y$$ is linear -- we'll learn how to solve it soon.\n",
    "The general solution is $$y(t)=t-1+Ce^{-t}.$$ With $y(t)=1$ we get $C=2$."
   ]
  },
  {
   "cell_type": "code",
   "execution_count": null,
   "metadata": {
    "hidden": false,
    "slideshow": {
     "slide_type": "fragment"
    }
   },
   "outputs": [],
   "source": [
    "y_exact = t - 1 + 2*np.exp(-t)\n",
    "y_euler = odeEuler(f,y0,t)\n",
    "plt.plot(t,y_euler,'b.-',t,y_exact,'r-')\n",
    "plt.legend(['Euler','Exact'])\n",
    "plt.axis([0,2,0,2])\n",
    "plt.grid(True)\n",
    "plt.show()"
   ]
  },
  {
   "cell_type": "markdown",
   "metadata": {
    "hidden": false,
    "slideshow": {
     "slide_type": "subslide"
    }
   },
   "source": [
    "### Symbolic solving with SymPy\n",
    "\n",
    "Another option is the SymPy library for symbolic manipulation. SymPy can handle most derivatives and integrals that Maple (or Wolfram Alpha) can, as well as ODEs. The diffrerence with SymPy is that it does *not* use numerical methods: it tries to give exact symbolic expressions. (And the `init_printing()` function enables nicely-formatted output.)"
   ]
  },
  {
   "cell_type": "code",
   "execution_count": null,
   "metadata": {
    "hidden": false,
    "scrolled": true,
    "slideshow": {
     "slide_type": "subslide"
    }
   },
   "outputs": [],
   "source": [
    "import sympy as sy\n",
    "sy.init_printing()\n",
    "t = sy.symbols('t')\n",
    "y = sy.Function('y')\n",
    "\n",
    "ydot = sy.diff(y(t),t)\n",
    "eq = sy.Eq(ydot,t-y(t))\n",
    "eq"
   ]
  },
  {
   "cell_type": "code",
   "execution_count": null,
   "metadata": {
    "hidden": false,
    "scrolled": true,
    "slideshow": {
     "slide_type": "fragment"
    }
   },
   "outputs": [],
   "source": [
    "sol=sy.dsolve(eq)\n",
    "sol"
   ]
  },
  {
   "cell_type": "code",
   "execution_count": null,
   "metadata": {
    "hidden": false,
    "slideshow": {
     "slide_type": "fragment"
    }
   },
   "outputs": [],
   "source": [
    "sy.simplify(sol)"
   ]
  },
  {
   "cell_type": "markdown",
   "metadata": {
    "hidden": false,
    "slideshow": {
     "slide_type": "subslide"
    }
   },
   "source": [
    "We can also add initial conditions using the following syntax, which solves the differential equation with initial condition $y(0)=2$."
   ]
  },
  {
   "cell_type": "code",
   "execution_count": null,
   "metadata": {
    "slideshow": {
     "slide_type": "fragment"
    }
   },
   "outputs": [],
   "source": [
    "sy.dsolve(eq,y(t),ics={y(0):2})"
   ]
  },
  {
   "cell_type": "code",
   "execution_count": null,
   "metadata": {},
   "outputs": [],
   "source": []
  }
 ],
 "metadata": {
  "celltoolbar": "Slideshow",
  "kernelspec": {
   "display_name": "Python 3 (ipykernel)",
   "language": "python",
   "name": "python3"
  },
  "language_info": {
   "codemirror_mode": {
    "name": "ipython",
    "version": 3
   },
   "file_extension": ".py",
   "mimetype": "text/x-python",
   "name": "python",
   "nbconvert_exporter": "python",
   "pygments_lexer": "ipython3",
   "version": "3.10.7"
  }
 },
 "nbformat": 4,
 "nbformat_minor": 2
}
