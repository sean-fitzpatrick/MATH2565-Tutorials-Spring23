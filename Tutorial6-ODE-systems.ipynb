{
 "cells": [
  {
   "cell_type": "markdown",
   "id": "cf1739a0",
   "metadata": {},
   "source": [
    "# Tutorial 6: Systems of differential equations\n",
    "\n",
    "Today's activity takes us a bit beyond what is covered in the textbook, but not too much beyond!\n",
    "\n",
    "As side benefits, we get an early introduction to parametric curves, and some reminders about the utility of linear algebra.\n",
    "\n",
    "Our focus will be **coupled systems of autonomous differential equations**. The context is the following: we have two variables $x$ and $y$ that both depend on an independent variable $t$ (our parameter, which in many contexts can be viewed as time).\n",
    "\n",
    "In a coupled system, the two quantities $x$ and $y$ change in time, but they also influence each other. An example would be sales numbers at two competing stores: the more that store A sells, the less store B sells, and vice-versa.\n",
    "\n",
    "We will begin with **linear** systems, of the form\n",
    "$$\\begin{aligned}\\frac{dx}{dt} &= ax+by\\\\ \\frac{dy}{dy}&=cx+dy\\end{aligned}$$\n",
    "for constants $a,b,c,d$. (In a more general linear system, $a,b,c,d$ could be functions of $t$, but we will stick to the time-independent case to keep things simple.)\n",
    "\n",
    "We will end with a classic example: a **predator-prey** model, where we have two animal populations: a prey species, that if left untouched would experience exponential population growth, and a predator species, whose population growth (or decline) depends on the size of the prey population. This is a **non-linear** system, and we will not be able to understand all the details at this point, but we can still explore it both graphically and numerically."
   ]
  },
  {
   "cell_type": "markdown",
   "id": "671dd0ac",
   "metadata": {},
   "source": [
    "## A preview of parametric curves\n",
    "\n",
    "Later in the course, we will study **parametric curves**: sets of points in the plane of the form $(x,y)=(f(t),g(t))$, where $f$ and $g$ are functions of a parameter $t$ defined in some domain $[a,b]$. As $t$ increases from $a$ to $b$, we can imagine a point that moves in \"time\", tracing out a curve.\n",
    "\n",
    "For example, we can generate the unit circle $x^2+y^2=1$ as the set of points $(\\cos(t),\\sin(t))$, $t\\in [0,2\\pi]$.\n",
    "\n",
    "For an illustration of this, run the next three cells."
   ]
  },
  {
   "cell_type": "code",
   "execution_count": null,
   "id": "b106eefc",
   "metadata": {},
   "outputs": [],
   "source": [
    "%matplotlib inline\n",
    "\n",
    "import matplotlib.pyplot as plt\n",
    "from matplotlib.animation import FuncAnimation\n",
    "plt.rcParams['figure.figsize'] = [10, 10]\n",
    "\n",
    "import numpy as np"
   ]
  },
  {
   "cell_type": "code",
   "execution_count": null,
   "id": "0830b440",
   "metadata": {},
   "outputs": [],
   "source": [
    "t = np.linspace(0,2*np.pi,50)\n",
    "x = np.cos(t)\n",
    "y = np.sin(t)\n",
    " \n",
    "fig, ax = plt.subplots(1, 1)\n",
    "#fig.set_size_inches(5,5)\n",
    " \n",
    "\n",
    "def animate(i):\n",
    "    ax.clear()\n",
    "    \n",
    "    # Plot that point using the x and y coordinates\n",
    "    ax.plot(x,y,color='red')\n",
    "    ax.plot(np.cos(t[i]), np.sin(t[i]), color='blue', \n",
    "            label='original', marker='o')\n",
    "    # Set the x and y axis to display a fixed range\n",
    "    ax.set_xlim([-1, 1])\n",
    "    ax.set_ylim([-1, 1])\n",
    "ani = FuncAnimation(fig, animate, frames=len(t),\n",
    "                    interval=100, repeat=False)\n",
    "\n",
    "plt.close()\n",
    "\n",
    "from matplotlib.animation import PillowWriter\n",
    "# Save the animation as an animated GIF\n",
    "ani.save(\"circle.gif\", dpi=300,\n",
    "         writer=PillowWriter(fps=100))\n"
   ]
  },
  {
   "cell_type": "markdown",
   "id": "f02fc89d",
   "metadata": {},
   "source": [
    "When the above cell finishes running, run this cell to see an animation of the unit circle as a parametric curve.\n",
    "\n",
    "![animation of unit circle](circle.gif)"
   ]
  },
  {
   "cell_type": "markdown",
   "id": "ccb57bf6",
   "metadata": {},
   "source": [
    "One of the facts that we will learn later in the course is that the slope of the tangent line to a parametric curve at a point $(x_0,y_0)=(f(t_0),g(t_0))$ is given by\n",
    "$$m = \\frac{dy}{dx} = \\frac{y\\,'(t)}{x\\,'(t)}.$$\n",
    "\n",
    "\n",
    "## Direction fields for linear systems\n",
    "\n",
    "We can modify the direction field code from our last tutorial to work for a system of two differential equations. For the `dfield` program from last week, we were given a differential equation $y'=f(x,y)$, and we defined the slope using the function $f(x,y)$. Given a system\n",
    "$$\\begin{aligned}\\frac{dx}{dt}&=f(x,y)\\\\ \\frac{dy}{dt}&=g(x,y)\\end{aligned}$$\n",
    "we will redefine the slope as $g(x,y)/f(x,y)$, based on the result given above. \n",
    "\n",
    "But you might have noticed last week that our direction fields didn't always look great. So before getting into the differential equations, we are going to explore the code a bit more carefully.\n",
    "\n",
    "\n",
    "We will test a few versions below to see how they perform. First, our code from last week. The only change I've made is to calculate the slope as $g(x,y)/f(x,y)$ instead of just $f(x,y)$."
   ]
  },
  {
   "cell_type": "code",
   "execution_count": null,
   "id": "59ca34b7",
   "metadata": {},
   "outputs": [],
   "source": [
    "def dfield1(f,g):\n",
    "    for j in x:\n",
    "        for k in y:\n",
    "            slope = g(j,k)/f(j,k)\n",
    "            domain = np.linspace(j-0.05,j+0.05,2)\n",
    "            def fun(x1,y1):\n",
    "                z = slope*(domain-x1)+y1\n",
    "                return z\n",
    "            plt.plot(domain,fun(j,k),solid_capstyle='projecting',solid_joinstyle='bevel')\n",
    "\n",
    "    plt.title(\"Slope field for y'=f(x,y)\")\n",
    "    plt.grid(True)\n",
    "    plt.axis([-2,2,-2,2])\n",
    "    plt.show()"
   ]
  },
  {
   "cell_type": "markdown",
   "id": "545dfa2a",
   "metadata": {},
   "source": [
    "Let's try this for the system\n",
    "$$\\begin{aligned}\\frac{dx}{dt}&=-x+3y\\\\\\frac{dy}{dt}&=-5x-2y\\end{aligned}$$\n",
    "\n",
    "To set things up, we need to define the functions $f(x,y)=-x+3y$ and $g(x,y)=-5x-2y$, as well as values to use for both $x$ and $y$.\n",
    "\n",
    "Notice that I've set the range for both `x` and `y` to match the values in the `plt.axis` command, which sets what range of values gets displayed for each variable."
   ]
  },
  {
   "cell_type": "code",
   "execution_count": null,
   "id": "8463fa29",
   "metadata": {},
   "outputs": [],
   "source": [
    "def f(x,y):\n",
    "    return -x+3*y\n",
    "def g(x,y):\n",
    "    return -5*x-2*y\n",
    "x=np.linspace(-2,2,30)\n",
    "y=np.linspace(-2,2,30)"
   ]
  },
  {
   "cell_type": "markdown",
   "id": "c1b93f1b",
   "metadata": {},
   "source": [
    "Now, let's create our direction field!"
   ]
  },
  {
   "cell_type": "code",
   "execution_count": null,
   "id": "e6628fea",
   "metadata": {},
   "outputs": [],
   "source": [
    "dfield1(f,g)"
   ]
  },
  {
   "cell_type": "markdown",
   "id": "bcfbf4d9",
   "metadata": {},
   "source": [
    "You should probably notice two things:\n",
    "1. It looks terrible!\n",
    "2. There's a warning about divison by zero.\n",
    "The latter comes from the fact that $f(x,y)=0$ whenever $x=3y$. Let's fix that, and see if it helps.\n",
    "\n",
    "The easiest way (that I can think of) to fix this is to use Python's `if`...`else` logic.\n",
    "If $f(x,y)\\neq 0$, we proceed as before. If $f(x,y)=0$, we need to do something else. We'll deal with the exceptional case first.\n",
    "\n",
    "If $f(x,y)=0$, what sort of line should we be plotting? (Think about it for a moment.)\n",
    "\n",
    "Did you answer \"vertical\"? If so, good job!\n",
    "\n",
    "Let's look more carefully at the code we are using:\n",
    "\n",
    "`domain = np.linspace(j-0.05,j+0.05,2)` creates an array with 2 points: `[j-0.05,j+0.05]`. These are the $x$ coordinates for the beginning and end of the line segment.\n",
    "\n",
    "```\n",
    "def fun(x1,y1):\n",
    "    z = slope*(domain-x1)+y1\n",
    "    return z\n",
    "```\n",
    "This calculates the $y$ coordinate along a line through the point $(x_1,y_1)$ with slope equal to `slope`.\n",
    "\n",
    "Now look at `plt.plot(domain,fun(j,k),solid_capstyle='projecting',solid_joinstyle='bevel')`. The additional options are style options. The important part is `plt.plot(domain,fun(j,k))`. Remember that `domain` is really an array with two numbers. Since `fun(j,k)` depends on `domain`, it is also an array.\n",
    "\n",
    "So this is a command to plot a line between two points. The first two inputs are arrays: an array of $x$ values, and an array of $y$ values. So `plt.plot([a,b],[c,d])` is a line between two points. The $x$ values are $a$ and $b$, and the $y$ values are $c$ and $d$, so the line goes from $(a,c)$ to $(b,d)$.\n",
    "\n",
    "In our code above, the initial point is $(j-0.05, k-0.05m)$, where $m$ is the value of `slope`, and the final point is $(j+0.05, k+0.05m)$.\n",
    "\n",
    "For a vertical line through the point $(j,k)$, we can use `plt.plot([j,j],[k-0.05,k+0.05])`, since we want the same $x$ coordinate at the beginning and at the end. Our modified code with no division by zero looks like this:"
   ]
  },
  {
   "cell_type": "code",
   "execution_count": null,
   "id": "ebe5fe5b",
   "metadata": {},
   "outputs": [],
   "source": [
    "def dfield2(f,g):\n",
    "    for j in x:\n",
    "        for k in y:\n",
    "            if f(j,k)==0:\n",
    "                plt.plot([j,j],[k-0.05,k+0.05],solid_capstyle='projecting',solid_joinstyle='bevel')\n",
    "            else:\n",
    "                slope = g(j,k)/f(j,k)\n",
    "                domain = np.linspace(j-0.05,j+0.05,2)\n",
    "                def fun(x1,y1):\n",
    "                    z = slope*(domain-x1)+y1\n",
    "                    return z\n",
    "                plt.plot(domain,fun(j,k),solid_capstyle='projecting',solid_joinstyle='bevel')\n",
    "\n",
    "    plt.title(\"Slope field for y'=f(x,y)\")\n",
    "    plt.grid(True)\n",
    "    plt.axis([-2,2,-2,2])\n",
    "    plt.show()"
   ]
  },
  {
   "cell_type": "markdown",
   "id": "f1e0f4dd",
   "metadata": {},
   "source": [
    "Let's see if this version does any better:"
   ]
  },
  {
   "cell_type": "code",
   "execution_count": null,
   "id": "4d366ca9",
   "metadata": {},
   "outputs": [],
   "source": [
    "dfield2(f,g)"
   ]
  },
  {
   "cell_type": "markdown",
   "id": "44412d41",
   "metadata": {},
   "source": [
    "No division by zero!\n",
    "\n",
    "But it still looks terrible. Notice how the lines with the steepest slopes are really long. Why do you think that is? (Think about this now; you will be asked to answer it later.)\n",
    "\n",
    "Here is one more version. This time, instead of using the equation of a tangent line to plot our line segments, we will use a trick from the parametric curve toolkit: if we want to draw a line through the point $(a,b)$ with slope $m$, we can let $\\theta=\\arctan(m)$ (remember that $\\tan\\theta$ gives slope), and define our line parametrically as\n",
    "\n",
    "$$(x,y) = (a+\\cos(\\theta)t,b+\\sin(\\theta)t),$$\n",
    "\n",
    "where $t$ is allowed to vary over some interval. If $t\\in [t_0, t_0+\\Delta t]$, then:\n",
    "\n",
    "$$\\begin{aligned}\\Delta x & = (a+\\cos(\\theta)(t_0+\\Delta t))-(a+\\cos(\\theta)t_0)=\\cos(\\theta)\\Delta t\\\\ \\Delta y & = (b+\\sin(\\theta)(t_0+\\Delta t))-(b+\\sin(\\theta)t_0)=\\sin(\\theta)\\Delta t\\end{aligned}$$\n",
    "\n",
    "so the length of the line segment is \n",
    "\n",
    "$$\\sqrt{\\Delta x^2+\\Delta y^2}=\\sqrt{\\cos^2(\\theta)\\Delta t^2 +\\sin^2(\\theta)\\Delta t^2} = \\sqrt{\\Delta t^2} = \\Delta t.$$\n",
    "\n",
    "This time, all of our segments have the same length, regardless of slope. Here is the code:"
   ]
  },
  {
   "cell_type": "code",
   "execution_count": null,
   "id": "82874bde",
   "metadata": {},
   "outputs": [],
   "source": [
    "def dfield(f,g):\n",
    "    for j in x:\n",
    "        for k in y:\n",
    "            if f(j,k)==0:\n",
    "                theta=np.pi/2\n",
    "            else:\n",
    "                slope = g(j,k)/f(j,k)\n",
    "                theta = np.arctan(slope)\n",
    "                plt.plot([j,j + 0.05*np.cos(theta)],\n",
    "                         [k,k+0.05*np.sin(theta)],\n",
    "                         solid_capstyle='projecting',solid_joinstyle='bevel')\n",
    "\n",
    "    plt.title(\"Direction field for x'=f(x,y),y'=g(x,y)\")\n",
    "    plt.grid(True)\n",
    "    plt.axis([x[0],x[len(x)-1],y[0],y[len(y)-1]])\n",
    "    plt.show()"
   ]
  },
  {
   "cell_type": "markdown",
   "id": "8393db75",
   "metadata": {},
   "source": [
    "Let's see if this version does any better:"
   ]
  },
  {
   "cell_type": "code",
   "execution_count": null,
   "id": "59769856",
   "metadata": {},
   "outputs": [],
   "source": [
    "dfield(f,g)"
   ]
  },
  {
   "cell_type": "markdown",
   "id": "87047480",
   "metadata": {},
   "source": [
    "I think we have a winner!!\n",
    "\n",
    "There is one more thing we could do: in addition to the slope $\\dfrac{dy}{dx} = \\dfrac{y\\,'(t)}{x\\,'(t)}$ of a parametric curve $(x(t),y(t))$, you will learn in Calculus III that you can consider the **tangent vector** $\\vec{r}\\,'(t) = \\langle x\\,'(t),y\\,'(t)\\rangle$. This vector aligns with the slope, but it also gives us a *direction of travel*. This can help us better understand how our solutions behave.\n",
    "\n",
    "To plot arrows, the `matplotlib` library has the `quiver` command. The syntax looks like `quiver(x,y,u,v)`, where `x` and `y` are arrays, giving the coordinates where each arrow should be located, while `u` and `v` give the direction of the vector. The `meshgrid` command below takes our two one-dimensional arrays of numbers and turns them into a two-dimensional array (i.e. a matrix). Here is what our direction field looks like with arrows. Note that the code is a lot simpler: the `meshgrid` command lets us skip the two `for` loops we needed before."
   ]
  },
  {
   "cell_type": "code",
   "execution_count": null,
   "id": "4c0a53a3",
   "metadata": {},
   "outputs": [],
   "source": [
    "x,y=np.meshgrid(np.linspace(-2,2,30),np.linspace(-2,2,30))\n",
    "u = f(x,y)/np.sqrt(f(x,y)**2+g(x,y)**2)\n",
    "v = g(x,y)/np.sqrt(f(x,y)**2+g(x,y)**2)\n",
    "plt.quiver(x,y,u,v)\n",
    "# If you want to add colour, add a 5th argument to quiver. Try functions of x,y,u,v.\n",
    "# For example, plt.quiver(x,y,u,v,np.arctan2(v,u)) assigns colour based on the angle of the vector\n",
    "plt.show()"
   ]
  },
  {
   "cell_type": "markdown",
   "id": "133bd123",
   "metadata": {},
   "source": [
    "### Problem 1\n",
    "\n",
    "Finally, an exercise! Try to explain the following items. (You can double-click on this cell to edit it, if you would like to type in your answers.)\n",
    "\n",
    "(a) In the original direction field plot, why are the lines with nearly vertical slopes so much longer than the lines with nearly horizontal slopes?\n",
    "\n",
    "(b) Why do the parametric equations $x=a+\\cos(\\theta)t, y=b+\\sin(\\theta)t$ define a line through the point $(a,b)$ with slope $m=\\tan(\\theta)$?\n",
    "\n"
   ]
  },
  {
   "cell_type": "markdown",
   "id": "70501785",
   "metadata": {},
   "source": [
    "## Euler's Method for systems\n",
    "\n",
    "We can adapt Euler's method to systems of differential equations. For the system\n",
    "$$\\begin{aligned}\\frac{dx}{dt} &= ax+by\\\\ \\frac{dy}{dy}&=cx+dy,\\end{aligned}$$\n",
    "there are three types of solutions that we can look for, given initial values $x(0)=x_0$ and $y(0)=y_0$:\n",
    "\n",
    "- The solution $x(t)$, giving $x$ as a function of $t$\n",
    "- The solution $y(t)$, giving $y$ as a function of $t$\n",
    "- The **solution curve**, which is in the $xy$ plane. (This implicitly defines $y$ as a function of $x$.)\n",
    "\n",
    "If we have analyitic (exact solutions) for $x(t)$ and $y(t)$, we can often *eliminate the parameter* to get an equation relating $x$ and $y$, which will define the solution curve. But if we are solving numerically, this isn't an option. Fortunately, it also is not necessary. In our algorithm, we will begin with an array defining the $t$ values we use as inputs. Euler's method will return arrays for both $x$ and $y$. We can then choose which two of these three arrays to plot together: we can plot the points $(t,x)$, giving $x(t)$, or the points $(t,y)$, giving $y(t)$, or the points $(x,y)$, giving the solution curve.\n",
    "\n",
    "Here again is our code for Euler's method, updated for a system of two equations."
   ]
  },
  {
   "cell_type": "code",
   "execution_count": null,
   "id": "c0ca1d5e",
   "metadata": {},
   "outputs": [],
   "source": [
    "def Euler2(f,g,x0,y0):\n",
    "    x = np.zeros(len(t)) #defines array of zeros with same length as t\n",
    "    y = np.zeros(len(t)) #these zeros will be rewritten below\n",
    "    x[0] = x0 #initial value for x\n",
    "    y[0] = y0 #initial value for y\n",
    "    for n in range(0,len(t)-1):\n",
    "        x[n+1] = x[n] + f(x[n],y[n])*(t[n+1] - t[n]) #defines next step for x\n",
    "        y[n+1] = y[n] + g(x[n],y[n])*(t[n+1] - t[n]) #notice f and g do not depend on t\n",
    "    return (x,y)"
   ]
  },
  {
   "cell_type": "markdown",
   "id": "7added9a",
   "metadata": {},
   "source": [
    "We will now define two plotting functions. The first will plot the solution functions $x(t)$ and $y(t)$. The second will plot the solution curve against the direction field, since both of these inhabit the $xy$ plane."
   ]
  },
  {
   "cell_type": "code",
   "execution_count": null,
   "id": "bcd2750c",
   "metadata": {},
   "outputs": [],
   "source": [
    "def xysol(f,g,x0,y0):\n",
    "    (x,y) = Euler2(f,g,x0,y0)\n",
    "    plt.plot(t,x,'b-',t,y,'r-')\n",
    "    plt.legend(['x(t)','y(t)'])\n",
    "    #plt.axis([0,10,0,10]) #uncomment to adjust viewing window\n",
    "    plt.grid(True)\n",
    "    plt.show()"
   ]
  },
  {
   "cell_type": "code",
   "execution_count": null,
   "id": "31b79643",
   "metadata": {},
   "outputs": [],
   "source": [
    "p = np.linspace(-2,2,20) # adjust these if necessay to change the grid for the direction field\n",
    "q = np.linspace(-2,2,20)\n",
    "\n",
    "def dfsol(f,g,x0,y0):\n",
    "    for j in p:\n",
    "        for k in q:\n",
    "            if f(j,k)==0:\n",
    "                theta=np.pi/2\n",
    "            else:\n",
    "                slope = g(j,k)/f(j,k)\n",
    "                theta = np.arctan(slope)\n",
    "                plt.plot([j,j + 0.05*np.cos(theta)],\n",
    "                         [k,k+0.05*np.sin(theta)],\n",
    "                         solid_capstyle='projecting',solid_joinstyle='bevel')\n",
    "\n",
    "    (x,y) = Euler2(f,g,x0,y0)\n",
    "    plt.plot(x,y)\n",
    "    plt.title(\"Direction field and solution curve for x'=f(x,y),y'=g(x,y)\")\n",
    "    plt.grid(True)\n",
    "    plt.axis([p[0],p[len(p)-1],q[0],q[len(q)-1]])\n",
    "    plt.show()"
   ]
  },
  {
   "cell_type": "markdown",
   "id": "ba895331",
   "metadata": {},
   "source": [
    "Here are the results for the system we've been studying so far, with initial conditions $x_0=1, y_0=-1$."
   ]
  },
  {
   "cell_type": "code",
   "execution_count": null,
   "id": "ac043a76",
   "metadata": {},
   "outputs": [],
   "source": [
    "def f(x,y):\n",
    "    return -x+3*y\n",
    "def g(x,y):\n",
    "    return -5*x-2*y\n",
    "t = np.linspace(0,2*np.pi,100)"
   ]
  },
  {
   "cell_type": "code",
   "execution_count": null,
   "id": "2c1d6c4c",
   "metadata": {},
   "outputs": [],
   "source": [
    "xysol(f,g,1,-1)"
   ]
  },
  {
   "cell_type": "code",
   "execution_count": null,
   "id": "9a355a90",
   "metadata": {},
   "outputs": [],
   "source": [
    "dfsol(f,g,1,-1)"
   ]
  },
  {
   "cell_type": "markdown",
   "id": "5ef7d4bf",
   "metadata": {},
   "source": [
    "### Problem 2\n",
    "\n",
    "For the following systems of differential equations of the form\n",
    "$$\\begin{aligned}\\frac{dx}{dt} &= ax+by\\\\ \\frac{dy}{dy}&=cx+dy,\\end{aligned}$$ \n",
    "use the `xysol` function above to plot approximate solutions $x(t)$ and $y(t)$. Then use the `dfsol` function to plot the approximate solution curve against the direction field. In each case you will need to define the functions `f(x,y)` and `g(x,y)`, as well as the array `t`. \n",
    "\n",
    "**Note:** After you run `xysol`, consider the range of values shown for $x$ and $y$. You will want to redefine the arrays `p` and `q` that define the range for $x$ and $y$ in `dfsol` to get a better plot.\n",
    "\n",
    "#### Part (a)\n",
    "\n",
    "$a = 0.1, b=0.05, c=0, d=-0.2, x_0 = 0.5, y_0=1$\n",
    "\n",
    "#### Part (b)\n",
    "\n",
    "$a = 0, b=2, c=-2, d=0, x_0=0.5, y=-0.5$"
   ]
  },
  {
   "cell_type": "code",
   "execution_count": null,
   "id": "e1281768",
   "metadata": {},
   "outputs": [],
   "source": []
  },
  {
   "cell_type": "code",
   "execution_count": null,
   "id": "1106973e",
   "metadata": {},
   "outputs": [],
   "source": []
  },
  {
   "cell_type": "code",
   "execution_count": null,
   "id": "2a203b42",
   "metadata": {},
   "outputs": [],
   "source": []
  },
  {
   "cell_type": "code",
   "execution_count": null,
   "id": "1fcd4607",
   "metadata": {},
   "outputs": [],
   "source": []
  },
  {
   "cell_type": "markdown",
   "id": "f2477405",
   "metadata": {},
   "source": [
    "## Solving linear systems\n",
    "\n",
    "What if we want to compare our approximate solutions to the \n",
    "We can't cover everything in one tutorial, but there are some very cool connections between systems of linear differential equations and linear algebra. Given the system\n",
    "$$\\begin{aligned}\\frac{dx}{dt} &= ax+by\\\\ \\frac{dy}{dy}&=cx+dy,\\end{aligned}$$\n",
    "consider the matrix\n",
    "$$A = \\begin{bmatrix}a&b\\\\c&d\\end{bmatrix}.$$\n",
    "\n",
    "A if we can find a number $\\lambda$ and a non-zero vector $\\vec{v}$ such that\n",
    "$$A\\vec{v}=\\lambda \\vec{v},$$\n",
    "we call $\\lambda$ an **eigenvalue** of $A$, and $\\vec{v}$ an **eigenvector** of $A$.\n",
    "\n",
    "(You've seen this already if you've done Math 1410. If not, don't worry -- you won't need to know how to find eigenvalues and eigenvectors, or even how to multiply a vector by a matrix! We'll let the computer do this.)\n",
    "\n",
    "\n",
    "Next, we learn how to use Python to compute eigenvalues and eigenvectors. We'll use these to create our solution.\n",
    "\n",
    "**Note:** many linear algebra calculations can be done quite easily using SymPy, and we get nicely formatted results, as well. (Matrices look like matrices, for example... If you are interested, see [my textbook for Math 3410](https://opentext.uleth.ca/Math3410/sec-sympy.html#subsec-sympy-matrix)) But we are going to want our eigenvalues to be numbers that NumPy understands, so that we can use them to plot solutions.\n",
    "\n",
    "A matrix can be entered in NumPy using the following syntax: `np.array([[a,b],[c,d]])`, where `[a,b]` is the first row, and `[c,d]` is the second. (This of corse works for larger matrices, too.)\n",
    "\n",
    "Let's enter the matrix for the example I've been using."
   ]
  },
  {
   "cell_type": "code",
   "execution_count": null,
   "id": "beaa5a43",
   "metadata": {},
   "outputs": [],
   "source": [
    "A=np.array([[-1,3],[-5,-2]])\n",
    "print(A) # for NumPy objects, print(A) produces better results than A"
   ]
  },
  {
   "cell_type": "markdown",
   "id": "cacc1e6a",
   "metadata": {},
   "source": [
    "We can obtain the eigenvalues and eigenvectors of $A$ using the linear algebra libarary from SciPy."
   ]
  },
  {
   "cell_type": "code",
   "execution_count": null,
   "id": "500be9cc",
   "metadata": {},
   "outputs": [],
   "source": [
    "import scipy.linalg as la\n",
    "x=la.eig(A)\n",
    "print(x)"
   ]
  },
  {
   "cell_type": "markdown",
   "id": "ab555303",
   "metadata": {},
   "source": [
    "We notice two things. First, this is both the eigenvalues **and** the eigenvectors! The eigenvalues are first, in a $2\\times 1$ array. The eigenvectors are second, in a $2\\times 2$ array. Second, all the numbers are complex! To extract the eigenvalues and eigenvectors, we can do the following:"
   ]
  },
  {
   "cell_type": "code",
   "execution_count": null,
   "id": "fa39dffb",
   "metadata": {},
   "outputs": [],
   "source": [
    "(evals,evects)=la.eig(A)\n",
    "print(evals)"
   ]
  },
  {
   "cell_type": "markdown",
   "id": "82c68f49",
   "metadata": {},
   "source": [
    "Try asking for either `evals[0]` or `evals[1]` to confirm that this behaves as an array:"
   ]
  },
  {
   "cell_type": "code",
   "execution_count": null,
   "id": "8a5502af",
   "metadata": {},
   "outputs": [],
   "source": []
  },
  {
   "cell_type": "markdown",
   "id": "d1ca66cf",
   "metadata": {},
   "source": [
    "We can also extract real and imaginary parts:"
   ]
  },
  {
   "cell_type": "code",
   "execution_count": null,
   "id": "4c42a7b6",
   "metadata": {},
   "outputs": [],
   "source": [
    "print(np.real(evals[0]))\n",
    "print(np.imag(evals[1]))"
   ]
  },
  {
   "cell_type": "markdown",
   "id": "ea34c42f",
   "metadata": {},
   "source": [
    "It turns out that the eigenvalues of the matrix $A$ characterize the types of solutions we can expect to get:\n",
    "\n",
    "- distinct real eigenvalues $\\lambda_1, \\lambda_2$: $x(t)=c_1e^{\\lambda_1 t}+c_2e^{\\lambda_2 t}$.\n",
    "\n",
    "- repeated real eigenvalue $\\lambda$: $x(t)=c_1e^{\\lambda t}+c_2 te^{\\lambda t}$.\n",
    "\n",
    "- purely imaginary eigenvalues $\\lambda = \\pm i \\omega$: $x(t)=c_1\\cos(\\omega t)+c_2\\sin(\\omega t)$.\n",
    "\n",
    "- complex eigenvalues $\\lambda = k+\\pm i\\omega$: $x(t) = c_1 e^{kt}+\\cos(\\omega t)+c_2 e^{kt}\\sin(\\omega t)$.\n",
    "\n",
    "In each case $c_1$ and $c_2$ are constants, and the result for $y(t)$ is similar. The constants are determined by initial conditions, but there are relationships between the constants for $x(t)$ and the constants for $y(t)$ determined by the eigenvectors of $A$. (For further details, see the end of this notebook.)\n",
    "\n",
    "\n",
    "### Problem 3\n",
    "\n",
    "For each system in Problem 2, determine the eigenvalues of the coefficient matrix $A$. In each case, comment on whether the graphs you found in Problem 2 make sense, in terms of the cases described above."
   ]
  },
  {
   "cell_type": "code",
   "execution_count": null,
   "id": "185ef34d",
   "metadata": {},
   "outputs": [],
   "source": []
  },
  {
   "cell_type": "code",
   "execution_count": null,
   "id": "7f5a7b4e",
   "metadata": {},
   "outputs": [],
   "source": []
  },
  {
   "cell_type": "code",
   "execution_count": null,
   "id": "9d748d27",
   "metadata": {},
   "outputs": [],
   "source": []
  },
  {
   "cell_type": "code",
   "execution_count": null,
   "id": "0fdcb010",
   "metadata": {},
   "outputs": [],
   "source": []
  },
  {
   "cell_type": "markdown",
   "id": "985a598e",
   "metadata": {},
   "source": [
    "## Non-linear systems\n",
    "\n",
    "The numerical methods we've introduced in this notebook will work for non-linear systems as well, although an analytical approach is far more complicated. (The general strategy is to find the critical points for a non-linear system, and then approximate near each critical point by a linear system.)\n",
    "\n",
    "In particular, we will look at Volterra's **predator-prey** model. In this model, $x(t)$ is the population of a prey species (e.g. rabbits) and $y(t)$ is the population of a predator species (e.g. foxes). \n",
    "For constants $a,b,c,d$, the predator-prey model is given by:\n",
    "\n",
    "$$\\begin{aligned}\\frac{dx}{dt} & = ax - bxy = x(a-by)\\\\ \\frac{dy}{dt}&=-cy+dxy = y(-c+dx)\\end{aligned}$$\n",
    "\n",
    "### Problem 4\n",
    "\n",
    "(a) If $y=0$ (no predators), what can you say about the population $x$?\n",
    "\n",
    "(b) If $x=0$ (no prey), what happens to the population $y$?\n",
    "\n",
    "(c) What is the significance of the $xy$ term in each equation?\n",
    "\n",
    "\n",
    "Now, let's define our predator-prey system:"
   ]
  },
  {
   "cell_type": "code",
   "execution_count": null,
   "id": "2d0c8c53",
   "metadata": {},
   "outputs": [],
   "source": [
    "a=2\n",
    "b=1.2\n",
    "c=1\n",
    "d=0.9\n",
    "def f(x,y): # define dx/dt=f(x,y)\n",
    "    return a*x-b*x*y\n",
    "def g(x,y): # define dy/dt=g(x,y)\n",
    "    return -c*y+d*x*y\n",
    "\n",
    "p = np.linspace(0.1,5,20)\n",
    "q = np.linspace(0.1,5,20)"
   ]
  },
  {
   "cell_type": "markdown",
   "id": "a1262ac8",
   "metadata": {},
   "source": [
    "We can then run the `xysol` and `dfsol` programs to generate plots for this system: first, to show how the two populations change over time, and second, to show the direction field and solution curve."
   ]
  },
  {
   "cell_type": "code",
   "execution_count": null,
   "id": "21dcc141",
   "metadata": {},
   "outputs": [],
   "source": [
    "t = np.linspace(0,4*np.pi,100)\n",
    "xysol(f,g,1.5,0.5) #choosing initial values x0=1.5 and y0=0.5"
   ]
  },
  {
   "cell_type": "code",
   "execution_count": null,
   "id": "7b1eb913",
   "metadata": {},
   "outputs": [],
   "source": [
    "dfsol(f,g,1.5,0.5)"
   ]
  },
  {
   "cell_type": "markdown",
   "id": "4cf32665",
   "metadata": {},
   "source": [
    "It turns out that the solution curve above should really be a closed curve. It doesn't appear this way due to the error involved in using Euler's method. To improve things, try changing the definition of `t` to use a smaller step size (perhaps change 100 to 1000), and then **re-run the cells.**\n",
    "\n",
    "What this means in terms of our population dynamic is that this particular predator-prey ecosystem is **stable**. The two populations go up and down over time, but they do so in a **cycle**."
   ]
  },
  {
   "cell_type": "markdown",
   "id": "ab8bfccf",
   "metadata": {},
   "source": [
    "### Problem 5\n",
    "\n",
    "Repeat problem 2 for the predator-prey model: choose two different sets of values for $a,b,c,d$, and then run both the `xysol` and `dfsol` programs to create plots for each. In each case, comment on the results.\n",
    "\n",
    "(Pick your own values, and experiment a bit. If your outcome isn't interesting, or seems unreasonable, try again with different numbers. Note that in some cases you could cause exponential growth so large that you overflow the values the system can handle, so choose carefully!)"
   ]
  },
  {
   "cell_type": "code",
   "execution_count": null,
   "id": "524ad97b",
   "metadata": {},
   "outputs": [],
   "source": []
  },
  {
   "cell_type": "code",
   "execution_count": null,
   "id": "8cce01e9",
   "metadata": {},
   "outputs": [],
   "source": []
  },
  {
   "cell_type": "code",
   "execution_count": null,
   "id": "2a9550ea",
   "metadata": {},
   "outputs": [],
   "source": []
  },
  {
   "cell_type": "code",
   "execution_count": null,
   "id": "af98d51a",
   "metadata": {},
   "outputs": [],
   "source": []
  },
  {
   "cell_type": "markdown",
   "id": "9947f74f",
   "metadata": {},
   "source": [
    "## Analytic methods for linear systems\n",
    "\n",
    "(For information purposes only.)\n",
    "\n",
    "Note that a system of differential equations could be written in vector form as\n",
    "$$\\begin{bmatrix}x\\,'(t)\\\\y\\,'(t)\\end{bmatrix}=A\\begin{bmatrix}x(t)\\\\y(t)\\end{bmatrix},$$\n",
    "\n",
    "where $A=\\begin{bmatrix}a&b\\\\c&d\\end{bmatrix}$ is the coefficient matrix for the system.\n",
    "\n",
    "It turns out that if $\\lambda$ is an eigenvalue of $A$, and $\\vec{v}=\\begin{bmatrix}v_1\\\\v_2\\end{bmatrix}$ is a corresponding eigenvector then a solution to our linear system is given by\n",
    "$$\\begin{aligned}x(t)&=v_1e^{\\lambda t}\\\\y(t)&=v_2e^{\\lambda t}.\\end{aligned}$$\n",
    "\n",
    "In vector form, we can write\n",
    "$$\\vec{x}(t) = e^{\\lambda t}\\vec{v}.$$\n",
    "\n",
    "This works because, on the one hand, $\\vec{x}\\,'(t) = \\lambda e^{\\lambda t}\\vec{v}$, and on the other hand, $A\\vec{x}(t) = A(e^{\\lambda t}\\vec{v})=e^{\\lambda t}A\\vec{v}=e^{\\lambda t}\\lambda \\vec{v}$.\n",
    "\n",
    "In most cases we will get two different eigenvalues, with corresponding eigenvectors and the general solution will be a linear combination (or superposition) of these two solutions. That is, if $\\vec{x}_1(t) = e^{\\lambda_1 t}\\vec{v}_1$ and $\\vec{x}_2(t)=e^{\\lambda_2 t}\\vec{v}_2$, then the general solution is\n",
    "$$\\vec{x}(t) = c_1\\vec{x}_1(t)+c_2\\vec{x}_2(t)=c_1\\vec{v}_1e^{\\lambda_1 t} + c_2\\vec{v}_2 e^{\\lambda_2 t}.$$\n",
    "\n",
    "\n",
    "If $\\lambda = u+iv$ is complex, we can use Euler's formula (yes, the same Euler) to write\n",
    "$$e^{\\lambda t} = e^{ut+ivt} = e^{ut}(\\cos(vt)+i\\sin(vt)).$$\n",
    "\n",
    "It turns out that if $\\lambda=u+iv$ is an eigenvalue, the other one will be $\\lambda=u-iv$ (thanks to the quadratic formula), and it is possible to combine the two solutions to give an answer entirely in terms of real numbers. The general solution for a system of two linear differential equations whose coefficient matrix has eigenvalues $\\lambda_\\pm  = u\\pm iv$ looks like\n",
    "\n",
    "$$\\vec{x}(t) = c_1\\vec{w}_1 e^{ut}\\cos(vt) + c_2\\vec{w}_2 e^{ut}\\sin(vt)$$\n",
    "\n",
    "for some vectors $\\vec{w}_1,\\vec{w}_2$. (These are not the original eigenvectors, but they are related.)\n",
    "\n",
    "When we have a solution like $\\vec{x}(t)=c_1\\vec{v}_1 e^{\\lambda_1 t}+c_2\\vec{v}_2 e^{\\lambda_2 t}$, and initial conditions $x(0)=x_0$, $y(0)=y_0$, we can determine the coefficiencts $c_1, c_2$ as follows:\n",
    "\n",
    "$$\\vec{x}(0)=\\begin{bmatrix}x_0\\\\y_0\\end{bmatrix}=c_1\\vec{v}_1+c_2\\vec{v}_2.$$\n",
    "\n",
    "This is a system of two equations with two unknowns. The matrix whose columns are given by the two eigenvectors will be invertible, allowing us to solve for $c_1$ and $c_2$.\n",
    "\n",
    "There are a lot of other details we've glossed over here, which you will learn about in a course on differential equations."
   ]
  },
  {
   "cell_type": "code",
   "execution_count": null,
   "id": "158978d9",
   "metadata": {},
   "outputs": [],
   "source": []
  }
 ],
 "metadata": {
  "kernelspec": {
   "display_name": "Python 3 (ipykernel)",
   "language": "python",
   "name": "python3"
  },
  "language_info": {
   "codemirror_mode": {
    "name": "ipython",
    "version": 3
   },
   "file_extension": ".py",
   "mimetype": "text/x-python",
   "name": "python",
   "nbconvert_exporter": "python",
   "pygments_lexer": "ipython3",
   "version": "3.10.7"
  }
 },
 "nbformat": 4,
 "nbformat_minor": 5
}
